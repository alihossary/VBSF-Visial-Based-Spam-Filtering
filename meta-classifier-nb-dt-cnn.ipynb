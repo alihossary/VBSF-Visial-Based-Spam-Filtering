{
 "cells": [
  {
   "cell_type": "code",
   "execution_count": 1,
   "id": "90b94e7d",
   "metadata": {
    "_cell_guid": "b1076dfc-b9ad-4769-8c92-a6c4dae69d19",
    "_uuid": "8f2839f25d086af736a60e9eeb907d3b93b6e0e5",
    "execution": {
     "iopub.execute_input": "2024-02-14T11:17:49.955441Z",
     "iopub.status.busy": "2024-02-14T11:17:49.954671Z",
     "iopub.status.idle": "2024-02-14T11:17:52.363788Z",
     "shell.execute_reply": "2024-02-14T11:17:52.362770Z"
    },
    "papermill": {
     "duration": 2.424618,
     "end_time": "2024-02-14T11:17:52.366613",
     "exception": false,
     "start_time": "2024-02-14T11:17:49.941995",
     "status": "completed"
    },
    "tags": []
   },
   "outputs": [],
   "source": [
    "import os\n",
    "import numpy as np \n",
    "import pandas as pd \n",
    "from sklearn.linear_model import LogisticRegression\n",
    "from sklearn.feature_extraction.text import CountVectorizer\n",
    "from sklearn.naive_bayes import GaussianNB\n",
    "from sklearn.model_selection import train_test_split\n",
    "from sklearn.metrics import accuracy_score\n",
    "from sklearn.svm import SVC"
   ]
  },
  {
   "cell_type": "code",
   "execution_count": 2,
   "id": "e152191d",
   "metadata": {
    "execution": {
     "iopub.execute_input": "2024-02-14T11:17:52.388600Z",
     "iopub.status.busy": "2024-02-14T11:17:52.388052Z",
     "iopub.status.idle": "2024-02-14T11:17:52.539556Z",
     "shell.execute_reply": "2024-02-14T11:17:52.538574Z"
    },
    "papermill": {
     "duration": 0.164961,
     "end_time": "2024-02-14T11:17:52.541882",
     "exception": false,
     "start_time": "2024-02-14T11:17:52.376921",
     "status": "completed"
    },
    "tags": []
   },
   "outputs": [],
   "source": [
    "CNN_Test_Pred = pd.read_csv('/kaggle/input/stacking-binary/CNN_Test_Predicition_Bin.csv').sort_values(by=\"Image_ID\")\n",
    "CNN_Train_Pred = pd.read_csv('/kaggle/input/stacking-binary/CNN_Train_Predicition_Bin.csv').sort_values(by=\"Image_ID\")\n",
    "#CNN_Val_Pred = pd.read_csv('/kaggle/input/temporary-stacking-data-2/CNN_Val_Predicition.csv').sort_values(by=\"Image_ID\")\n",
    "NB_Test_Pred = pd.read_csv('/kaggle/input/stacking-binary/Naive Bayes_Test_Prediction.csv').sort_values(by=\"Text_ID\")\n",
    "NB_Train_Pred = pd.read_csv('/kaggle/input/stacking-binary/Naive Bayes_Train_Prediction.csv').sort_values(by=\"Text_ID\")\n",
    "#NB_Val_Pred = pd.read_csv('/kaggle/input/temporary-stacking-data-2/NB_Val_Predicition.csv').sort_values(by=\"Text_ID\")\n",
    "Train_GT =  pd.read_csv('/kaggle/input/stacking-binary/ground_truth_train.csv').sort_values(by=\"Image_ID\")\n",
    "Test_GT =  pd.read_csv('/kaggle/input/stacking-binary/ground_truth_test.csv').sort_values(by=\"Image_ID\")\n",
    "#Val_GT =  pd.read_csv('/kaggle/input/temporary-stacking-data-2/Val_Truth_Ground.csv').sort_values(by=\"Text_ID\")\n",
    "DT_Test_Pred = pd.read_csv('/kaggle/input/stacking-binary/Decision Tree_Test_Prediction.csv').sort_values(by=\"Text_ID\")\n",
    "#RF_Val_Pred = pd.read_csv('/kaggle/input/temporary-stacking-data-2/Random Forest_Val_Prediction.csv').sort_values(by=\"Text_ID\")\n",
    "DT_Train_Pred = pd.read_csv('/kaggle/input/stacking-binary/Decision Tree_Train_Prediction.csv').sort_values(by=\"Text_ID\")"
   ]
  },
  {
   "cell_type": "code",
   "execution_count": null,
   "id": "2368f812",
   "metadata": {
    "papermill": {
     "duration": 0.009785,
     "end_time": "2024-02-14T11:17:52.561982",
     "exception": false,
     "start_time": "2024-02-14T11:17:52.552197",
     "status": "completed"
    },
    "tags": []
   },
   "outputs": [],
   "source": []
  },
  {
   "cell_type": "code",
   "execution_count": null,
   "id": "f0e6aae1",
   "metadata": {
    "papermill": {
     "duration": 0.009847,
     "end_time": "2024-02-14T11:17:52.581837",
     "exception": false,
     "start_time": "2024-02-14T11:17:52.571990",
     "status": "completed"
    },
    "tags": []
   },
   "outputs": [],
   "source": []
  },
  {
   "cell_type": "code",
   "execution_count": null,
   "id": "81c0b32e",
   "metadata": {
    "papermill": {
     "duration": 0.010471,
     "end_time": "2024-02-14T11:17:52.602252",
     "exception": false,
     "start_time": "2024-02-14T11:17:52.591781",
     "status": "completed"
    },
    "tags": []
   },
   "outputs": [],
   "source": []
  },
  {
   "cell_type": "code",
   "execution_count": null,
   "id": "b235a350",
   "metadata": {
    "papermill": {
     "duration": 0.009659,
     "end_time": "2024-02-14T11:17:52.621806",
     "exception": false,
     "start_time": "2024-02-14T11:17:52.612147",
     "status": "completed"
    },
    "tags": []
   },
   "outputs": [],
   "source": []
  },
  {
   "cell_type": "code",
   "execution_count": null,
   "id": "26c35b6b",
   "metadata": {
    "papermill": {
     "duration": 0.010254,
     "end_time": "2024-02-14T11:17:52.642314",
     "exception": false,
     "start_time": "2024-02-14T11:17:52.632060",
     "status": "completed"
    },
    "tags": []
   },
   "outputs": [],
   "source": []
  },
  {
   "cell_type": "code",
   "execution_count": 3,
   "id": "81e9ea17",
   "metadata": {
    "execution": {
     "iopub.execute_input": "2024-02-14T11:17:52.664359Z",
     "iopub.status.busy": "2024-02-14T11:17:52.663644Z",
     "iopub.status.idle": "2024-02-14T11:17:52.694260Z",
     "shell.execute_reply": "2024-02-14T11:17:52.693095Z"
    },
    "papermill": {
     "duration": 0.044649,
     "end_time": "2024-02-14T11:17:52.697019",
     "exception": false,
     "start_time": "2024-02-14T11:17:52.652370",
     "status": "completed"
    },
    "tags": []
   },
   "outputs": [
    {
     "data": {
      "text/html": [
       "<div>\n",
       "<style scoped>\n",
       "    .dataframe tbody tr th:only-of-type {\n",
       "        vertical-align: middle;\n",
       "    }\n",
       "\n",
       "    .dataframe tbody tr th {\n",
       "        vertical-align: top;\n",
       "    }\n",
       "\n",
       "    .dataframe thead th {\n",
       "        text-align: right;\n",
       "    }\n",
       "</style>\n",
       "<table border=\"1\" class=\"dataframe\">\n",
       "  <thead>\n",
       "    <tr style=\"text-align: right;\">\n",
       "      <th></th>\n",
       "      <th>Image_ID</th>\n",
       "      <th>Label</th>\n",
       "    </tr>\n",
       "  </thead>\n",
       "  <tbody>\n",
       "    <tr>\n",
       "      <th>563</th>\n",
       "      <td>emailimage_0005.1999-12-14.farmer.ham.txt</td>\n",
       "      <td>0</td>\n",
       "    </tr>\n",
       "    <tr>\n",
       "      <th>529</th>\n",
       "      <td>emailimage_0021.1999-12-15.farmer.ham.txt</td>\n",
       "      <td>0</td>\n",
       "    </tr>\n",
       "    <tr>\n",
       "      <th>0</th>\n",
       "      <td>emailimage_0030.1999-12-20.farmer.ham.txt</td>\n",
       "      <td>0</td>\n",
       "    </tr>\n",
       "    <tr>\n",
       "      <th>603</th>\n",
       "      <td>emailimage_0037.1999-12-20.farmer.ham.txt</td>\n",
       "      <td>0</td>\n",
       "    </tr>\n",
       "    <tr>\n",
       "      <th>577</th>\n",
       "      <td>emailimage_0048.1999-12-21.farmer.ham.txt</td>\n",
       "      <td>0</td>\n",
       "    </tr>\n",
       "  </tbody>\n",
       "</table>\n",
       "</div>"
      ],
      "text/plain": [
       "                                      Image_ID  Label\n",
       "563  emailimage_0005.1999-12-14.farmer.ham.txt      0\n",
       "529  emailimage_0021.1999-12-15.farmer.ham.txt      0\n",
       "0    emailimage_0030.1999-12-20.farmer.ham.txt      0\n",
       "603  emailimage_0037.1999-12-20.farmer.ham.txt      0\n",
       "577  emailimage_0048.1999-12-21.farmer.ham.txt      0"
      ]
     },
     "execution_count": 3,
     "metadata": {},
     "output_type": "execute_result"
    }
   ],
   "source": [
    "CNN_Test_Pred.drop(CNN_Test_Pred.columns[0], axis=1, inplace=True)\n",
    "CNN_Train_Pred.drop(CNN_Train_Pred.columns[0], axis=1, inplace=True)\n",
    "\n",
    "# CNN_Test_Pred['Label'] = CNN_Test_Pred['Label'].replace({'spam': 1, 'ham': 0})\n",
    "# CNN_Train_Pred['Label'] = CNN_Train_Pred['Label'].replace({'spam': 1, 'ham': 0})\n",
    "\n",
    "Train_GT.drop(Train_GT.columns[0], axis=1, inplace=True)\n",
    "Test_GT.drop(Test_GT.columns[0], axis=1, inplace=True)\n",
    "Train_GT['Label'] = Train_GT['Label'].replace({'spam': 1, 'ham': 0})\n",
    "Test_GT['Label'] = Test_GT['Label'].replace({'spam': 1, 'ham': 0})\n",
    "\n",
    "CNN_Test_Pred.head()"
   ]
  },
  {
   "cell_type": "code",
   "execution_count": 4,
   "id": "f7bc336a",
   "metadata": {
    "execution": {
     "iopub.execute_input": "2024-02-14T11:17:52.726078Z",
     "iopub.status.busy": "2024-02-14T11:17:52.724948Z",
     "iopub.status.idle": "2024-02-14T11:17:52.735553Z",
     "shell.execute_reply": "2024-02-14T11:17:52.734429Z"
    },
    "papermill": {
     "duration": 0.026548,
     "end_time": "2024-02-14T11:17:52.737751",
     "exception": false,
     "start_time": "2024-02-14T11:17:52.711203",
     "status": "completed"
    },
    "tags": []
   },
   "outputs": [
    {
     "data": {
      "text/html": [
       "<div>\n",
       "<style scoped>\n",
       "    .dataframe tbody tr th:only-of-type {\n",
       "        vertical-align: middle;\n",
       "    }\n",
       "\n",
       "    .dataframe tbody tr th {\n",
       "        vertical-align: top;\n",
       "    }\n",
       "\n",
       "    .dataframe thead th {\n",
       "        text-align: right;\n",
       "    }\n",
       "</style>\n",
       "<table border=\"1\" class=\"dataframe\">\n",
       "  <thead>\n",
       "    <tr style=\"text-align: right;\">\n",
       "      <th></th>\n",
       "      <th>Image_ID</th>\n",
       "      <th>Label</th>\n",
       "    </tr>\n",
       "  </thead>\n",
       "  <tbody>\n",
       "    <tr>\n",
       "      <th>563</th>\n",
       "      <td>emailimage_0005.1999-12-14.farmer.ham.txt</td>\n",
       "      <td>0</td>\n",
       "    </tr>\n",
       "    <tr>\n",
       "      <th>529</th>\n",
       "      <td>emailimage_0021.1999-12-15.farmer.ham.txt</td>\n",
       "      <td>0</td>\n",
       "    </tr>\n",
       "    <tr>\n",
       "      <th>0</th>\n",
       "      <td>emailimage_0030.1999-12-20.farmer.ham.txt</td>\n",
       "      <td>0</td>\n",
       "    </tr>\n",
       "    <tr>\n",
       "      <th>603</th>\n",
       "      <td>emailimage_0037.1999-12-20.farmer.ham.txt</td>\n",
       "      <td>0</td>\n",
       "    </tr>\n",
       "    <tr>\n",
       "      <th>577</th>\n",
       "      <td>emailimage_0048.1999-12-21.farmer.ham.txt</td>\n",
       "      <td>0</td>\n",
       "    </tr>\n",
       "  </tbody>\n",
       "</table>\n",
       "</div>"
      ],
      "text/plain": [
       "                                      Image_ID  Label\n",
       "563  emailimage_0005.1999-12-14.farmer.ham.txt      0\n",
       "529  emailimage_0021.1999-12-15.farmer.ham.txt      0\n",
       "0    emailimage_0030.1999-12-20.farmer.ham.txt      0\n",
       "603  emailimage_0037.1999-12-20.farmer.ham.txt      0\n",
       "577  emailimage_0048.1999-12-21.farmer.ham.txt      0"
      ]
     },
     "execution_count": 4,
     "metadata": {},
     "output_type": "execute_result"
    }
   ],
   "source": [
    "Test_GT.head()"
   ]
  },
  {
   "cell_type": "code",
   "execution_count": 5,
   "id": "e6e9170c",
   "metadata": {
    "execution": {
     "iopub.execute_input": "2024-02-14T11:17:52.763735Z",
     "iopub.status.busy": "2024-02-14T11:17:52.763386Z",
     "iopub.status.idle": "2024-02-14T11:17:52.773506Z",
     "shell.execute_reply": "2024-02-14T11:17:52.772313Z"
    },
    "papermill": {
     "duration": 0.024773,
     "end_time": "2024-02-14T11:17:52.776520",
     "exception": false,
     "start_time": "2024-02-14T11:17:52.751747",
     "status": "completed"
    },
    "tags": []
   },
   "outputs": [
    {
     "name": "stdout",
     "output_type": "stream",
     "text": [
      "CNN Training Predicition DataFrame shape: (6239, 2)\n",
      "NB Training Predicition DataFrame shape: (6239, 2)\n",
      "CNN Testing Predicition DataFrame shape: (1560, 2)\n",
      "NB Testing Predicition DataFrame shape: (1560, 2)\n",
      "DT Train Predicition DataFrame shape: (6239, 2)\n",
      "DT Test Predicition DataFrame shape: (1560, 2)\n"
     ]
    }
   ],
   "source": [
    "print(\"CNN Training Predicition DataFrame shape:\", CNN_Train_Pred.shape)\n",
    "print(\"NB Training Predicition DataFrame shape:\", NB_Train_Pred.shape)\n",
    "print(\"CNN Testing Predicition DataFrame shape:\", CNN_Test_Pred.shape)\n",
    "print(\"NB Testing Predicition DataFrame shape:\", NB_Test_Pred.shape)\n",
    "#print(\"CNN Validation Predicition DataFrame shape:\", CNN_Val_Pred.shape)\n",
    "#print(\"NB Validation Predicition DataFrame shape:\", NB_Val_Pred.shape)\n",
    "#print(\"RF Validation Predicition DataFrame shape:\", RF_Val_Pred.shape)\n",
    "print(\"DT Train Predicition DataFrame shape:\", DT_Train_Pred.shape)\n",
    "print(\"DT Test Predicition DataFrame shape:\", DT_Test_Pred.shape)      "
   ]
  },
  {
   "cell_type": "code",
   "execution_count": null,
   "id": "35dfa1c8",
   "metadata": {
    "papermill": {
     "duration": 0.015652,
     "end_time": "2024-02-14T11:17:52.806519",
     "exception": false,
     "start_time": "2024-02-14T11:17:52.790867",
     "status": "completed"
    },
    "tags": []
   },
   "outputs": [],
   "source": []
  },
  {
   "cell_type": "code",
   "execution_count": 6,
   "id": "770471f3",
   "metadata": {
    "execution": {
     "iopub.execute_input": "2024-02-14T11:17:52.897679Z",
     "iopub.status.busy": "2024-02-14T11:17:52.897303Z",
     "iopub.status.idle": "2024-02-14T11:17:52.906315Z",
     "shell.execute_reply": "2024-02-14T11:17:52.905396Z"
    },
    "papermill": {
     "duration": 0.023279,
     "end_time": "2024-02-14T11:17:52.908498",
     "exception": false,
     "start_time": "2024-02-14T11:17:52.885219",
     "status": "completed"
    },
    "tags": []
   },
   "outputs": [
    {
     "data": {
      "text/plain": [
       "0.9905433563071004"
      ]
     },
     "execution_count": 6,
     "metadata": {},
     "output_type": "execute_result"
    }
   ],
   "source": [
    " accuracy_score(Train_GT[\"Label\"], CNN_Train_Pred[\"Label\"])"
   ]
  },
  {
   "cell_type": "code",
   "execution_count": 7,
   "id": "aa5d94a5",
   "metadata": {
    "execution": {
     "iopub.execute_input": "2024-02-14T11:17:52.931673Z",
     "iopub.status.busy": "2024-02-14T11:17:52.931255Z",
     "iopub.status.idle": "2024-02-14T11:17:52.937070Z",
     "shell.execute_reply": "2024-02-14T11:17:52.936013Z"
    },
    "papermill": {
     "duration": 0.020021,
     "end_time": "2024-02-14T11:17:52.939285",
     "exception": false,
     "start_time": "2024-02-14T11:17:52.919264",
     "status": "completed"
    },
    "tags": []
   },
   "outputs": [
    {
     "name": "stdout",
     "output_type": "stream",
     "text": [
      "Data type of Train_GT['Label'] column: int64\n",
      "Data type of NB_Train_Pred['Label'] column: int64\n"
     ]
    }
   ],
   "source": [
    "label_dtype = Train_GT[\"Label\"].dtype\n",
    "print(\"Data type of Train_GT['Label'] column:\", label_dtype)\n",
    "nb_label_dtype =NB_Train_Pred[\"Label\"].dtype\n",
    "print(\"Data type of NB_Train_Pred['Label'] column:\", label_dtype)\n"
   ]
  },
  {
   "cell_type": "code",
   "execution_count": null,
   "id": "d4362c44",
   "metadata": {
    "papermill": {
     "duration": 0.010446,
     "end_time": "2024-02-14T11:17:52.960386",
     "exception": false,
     "start_time": "2024-02-14T11:17:52.949940",
     "status": "completed"
    },
    "tags": []
   },
   "outputs": [],
   "source": []
  },
  {
   "cell_type": "code",
   "execution_count": 8,
   "id": "9dfc7ec6",
   "metadata": {
    "execution": {
     "iopub.execute_input": "2024-02-14T11:17:52.984333Z",
     "iopub.status.busy": "2024-02-14T11:17:52.983887Z",
     "iopub.status.idle": "2024-02-14T11:17:52.993077Z",
     "shell.execute_reply": "2024-02-14T11:17:52.991901Z"
    },
    "papermill": {
     "duration": 0.024192,
     "end_time": "2024-02-14T11:17:52.995398",
     "exception": false,
     "start_time": "2024-02-14T11:17:52.971206",
     "status": "completed"
    },
    "tags": []
   },
   "outputs": [
    {
     "data": {
      "text/plain": [
       "0.9881391248597532"
      ]
     },
     "execution_count": 8,
     "metadata": {},
     "output_type": "execute_result"
    }
   ],
   "source": [
    " accuracy_score(Train_GT[\"Label\"], NB_Train_Pred[\"Label\"])"
   ]
  },
  {
   "cell_type": "code",
   "execution_count": 9,
   "id": "cb44ebf6",
   "metadata": {
    "execution": {
     "iopub.execute_input": "2024-02-14T11:17:53.023152Z",
     "iopub.status.busy": "2024-02-14T11:17:53.022388Z",
     "iopub.status.idle": "2024-02-14T11:17:53.033999Z",
     "shell.execute_reply": "2024-02-14T11:17:53.033143Z"
    },
    "papermill": {
     "duration": 0.029857,
     "end_time": "2024-02-14T11:17:53.036629",
     "exception": false,
     "start_time": "2024-02-14T11:17:53.006772",
     "status": "completed"
    },
    "tags": []
   },
   "outputs": [
    {
     "data": {
      "text/plain": [
       "0.9998397179035102"
      ]
     },
     "execution_count": 9,
     "metadata": {},
     "output_type": "execute_result"
    }
   ],
   "source": [
    "accuracy_score(Train_GT[\"Label\"], DT_Train_Pred[\"Label\"])"
   ]
  },
  {
   "cell_type": "code",
   "execution_count": 10,
   "id": "e3563b3d",
   "metadata": {
    "execution": {
     "iopub.execute_input": "2024-02-14T11:17:53.062432Z",
     "iopub.status.busy": "2024-02-14T11:17:53.062037Z",
     "iopub.status.idle": "2024-02-14T11:17:53.070306Z",
     "shell.execute_reply": "2024-02-14T11:17:53.069171Z"
    },
    "papermill": {
     "duration": 0.024021,
     "end_time": "2024-02-14T11:17:53.072265",
     "exception": false,
     "start_time": "2024-02-14T11:17:53.048244",
     "status": "completed"
    },
    "tags": []
   },
   "outputs": [
    {
     "data": {
      "text/plain": [
       "0.9576923076923077"
      ]
     },
     "execution_count": 10,
     "metadata": {},
     "output_type": "execute_result"
    }
   ],
   "source": [
    " accuracy_score(Test_GT[\"Label\"], CNN_Test_Pred[\"Label\"])"
   ]
  },
  {
   "cell_type": "code",
   "execution_count": 11,
   "id": "c65bd779",
   "metadata": {
    "execution": {
     "iopub.execute_input": "2024-02-14T11:17:53.097705Z",
     "iopub.status.busy": "2024-02-14T11:17:53.097285Z",
     "iopub.status.idle": "2024-02-14T11:17:53.106359Z",
     "shell.execute_reply": "2024-02-14T11:17:53.105288Z"
    },
    "papermill": {
     "duration": 0.024544,
     "end_time": "2024-02-14T11:17:53.108554",
     "exception": false,
     "start_time": "2024-02-14T11:17:53.084010",
     "status": "completed"
    },
    "tags": []
   },
   "outputs": [
    {
     "data": {
      "text/plain": [
       "0.966025641025641"
      ]
     },
     "execution_count": 11,
     "metadata": {},
     "output_type": "execute_result"
    }
   ],
   "source": [
    "accuracy_score(Test_GT[\"Label\"], DT_Test_Pred[\"Label\"])"
   ]
  },
  {
   "cell_type": "code",
   "execution_count": 12,
   "id": "c3503d98",
   "metadata": {
    "execution": {
     "iopub.execute_input": "2024-02-14T11:17:53.135833Z",
     "iopub.status.busy": "2024-02-14T11:17:53.134755Z",
     "iopub.status.idle": "2024-02-14T11:17:53.144262Z",
     "shell.execute_reply": "2024-02-14T11:17:53.143017Z"
    },
    "papermill": {
     "duration": 0.026751,
     "end_time": "2024-02-14T11:17:53.146517",
     "exception": false,
     "start_time": "2024-02-14T11:17:53.119766",
     "status": "completed"
    },
    "tags": []
   },
   "outputs": [
    {
     "data": {
      "text/plain": [
       "0.9551282051282052"
      ]
     },
     "execution_count": 12,
     "metadata": {},
     "output_type": "execute_result"
    }
   ],
   "source": [
    " accuracy_score(Test_GT[\"Label\"], NB_Test_Pred[\"Label\"])"
   ]
  },
  {
   "cell_type": "code",
   "execution_count": 13,
   "id": "32c234f0",
   "metadata": {
    "execution": {
     "iopub.execute_input": "2024-02-14T11:17:53.171154Z",
     "iopub.status.busy": "2024-02-14T11:17:53.170758Z",
     "iopub.status.idle": "2024-02-14T11:17:53.174673Z",
     "shell.execute_reply": "2024-02-14T11:17:53.173723Z"
    },
    "papermill": {
     "duration": 0.018725,
     "end_time": "2024-02-14T11:17:53.176774",
     "exception": false,
     "start_time": "2024-02-14T11:17:53.158049",
     "status": "completed"
    },
    "tags": []
   },
   "outputs": [],
   "source": [
    "#accuracy_score(Val_GT[\"Label\"], NB_Val_Pred[\"Label\"])"
   ]
  },
  {
   "cell_type": "code",
   "execution_count": 14,
   "id": "2229ef97",
   "metadata": {
    "execution": {
     "iopub.execute_input": "2024-02-14T11:17:53.202154Z",
     "iopub.status.busy": "2024-02-14T11:17:53.201527Z",
     "iopub.status.idle": "2024-02-14T11:17:53.205460Z",
     "shell.execute_reply": "2024-02-14T11:17:53.204515Z"
    },
    "papermill": {
     "duration": 0.019429,
     "end_time": "2024-02-14T11:17:53.207731",
     "exception": false,
     "start_time": "2024-02-14T11:17:53.188302",
     "status": "completed"
    },
    "tags": []
   },
   "outputs": [],
   "source": [
    "#accuracy_score(Val_GT[\"Label\"], CNN_Val_Pred[\"Label\"])"
   ]
  },
  {
   "cell_type": "code",
   "execution_count": 15,
   "id": "dd8d69f9",
   "metadata": {
    "execution": {
     "iopub.execute_input": "2024-02-14T11:17:53.233218Z",
     "iopub.status.busy": "2024-02-14T11:17:53.232612Z",
     "iopub.status.idle": "2024-02-14T11:17:53.236136Z",
     "shell.execute_reply": "2024-02-14T11:17:53.235370Z"
    },
    "papermill": {
     "duration": 0.018583,
     "end_time": "2024-02-14T11:17:53.238277",
     "exception": false,
     "start_time": "2024-02-14T11:17:53.219694",
     "status": "completed"
    },
    "tags": []
   },
   "outputs": [],
   "source": [
    "#accuracy_score(Val_GT[\"Label\"], RF_Val_Pred[\"Label\"])"
   ]
  },
  {
   "cell_type": "code",
   "execution_count": 16,
   "id": "991c3479",
   "metadata": {
    "execution": {
     "iopub.execute_input": "2024-02-14T11:17:53.263027Z",
     "iopub.status.busy": "2024-02-14T11:17:53.262636Z",
     "iopub.status.idle": "2024-02-14T11:17:53.652728Z",
     "shell.execute_reply": "2024-02-14T11:17:53.651628Z"
    },
    "papermill": {
     "duration": 0.406036,
     "end_time": "2024-02-14T11:17:53.655952",
     "exception": false,
     "start_time": "2024-02-14T11:17:53.249916",
     "status": "completed"
    },
    "tags": []
   },
   "outputs": [],
   "source": [
    "import numpy as np\n",
    "import pandas as pd\n",
    "from sklearn.linear_model import LogisticRegression\n",
    "from sklearn.ensemble import RandomForestClassifier, GradientBoostingClassifier\n",
    "from sklearn.svm import SVC\n",
    "from sklearn.neighbors import KNeighborsClassifier\n",
    "from sklearn.tree import DecisionTreeClassifier\n",
    "from sklearn.naive_bayes import GaussianNB\n",
    "from sklearn.neural_network import MLPClassifier\n",
    "from sklearn.ensemble import AdaBoostClassifier\n",
    "from sklearn.metrics import accuracy_score\n",
    "from xgboost import XGBClassifier  # Import XGBoost"
   ]
  },
  {
   "cell_type": "code",
   "execution_count": 17,
   "id": "6808d2fc",
   "metadata": {
    "execution": {
     "iopub.execute_input": "2024-02-14T11:17:53.681922Z",
     "iopub.status.busy": "2024-02-14T11:17:53.680865Z",
     "iopub.status.idle": "2024-02-14T11:17:53.687444Z",
     "shell.execute_reply": "2024-02-14T11:17:53.686480Z"
    },
    "papermill": {
     "duration": 0.021796,
     "end_time": "2024-02-14T11:17:53.689736",
     "exception": false,
     "start_time": "2024-02-14T11:17:53.667940",
     "status": "completed"
    },
    "tags": []
   },
   "outputs": [],
   "source": [
    "# Create a new dataset for the meta-classifier\n",
    "stacked_features_train = np.column_stack((CNN_Train_Pred[\"Label\"], NB_Train_Pred[\"Label\"] , DT_Train_Pred[\"Label\"]))\n",
    "#stacked_features_val = np.column_stack((CNN_Val_Pred[\"Label\"], NB_Val_Pred[\"Label\"], RF_Val_Pred[\"Label\"]))\n",
    "stacked_features_test = np.column_stack((CNN_Test_Pred[\"Label\"], NB_Test_Pred[\"Label\"], DT_Test_Pred[\"Label\"]))\n",
    "#combined_features = np.vstack((stacked_features_train, stacked_features_val))\n",
    "#Combined_GT = np.concatenate((Train_GT[\"Label\"], Val_GT[\"Label\"]),axis=0)\n",
    "###############################################\n",
    "\n",
    "\n",
    "# Combine train and validation features and labels\n",
    "#combined_features = pd.concat([combined_features_train, combined_features_val], ignore_index=True)"
   ]
  },
  {
   "cell_type": "code",
   "execution_count": 18,
   "id": "7bb24e06",
   "metadata": {
    "execution": {
     "iopub.execute_input": "2024-02-14T11:17:53.714771Z",
     "iopub.status.busy": "2024-02-14T11:17:53.714337Z",
     "iopub.status.idle": "2024-02-14T11:17:53.721955Z",
     "shell.execute_reply": "2024-02-14T11:17:53.720857Z"
    },
    "papermill": {
     "duration": 0.023006,
     "end_time": "2024-02-14T11:17:53.724362",
     "exception": false,
     "start_time": "2024-02-14T11:17:53.701356",
     "status": "completed"
    },
    "tags": []
   },
   "outputs": [
    {
     "data": {
      "text/plain": [
       "(6239, 3)"
      ]
     },
     "execution_count": 18,
     "metadata": {},
     "output_type": "execute_result"
    }
   ],
   "source": [
    "stacked_features_train.shape"
   ]
  },
  {
   "cell_type": "code",
   "execution_count": null,
   "id": "64c6d5fa",
   "metadata": {
    "papermill": {
     "duration": 0.011456,
     "end_time": "2024-02-14T11:17:53.748924",
     "exception": false,
     "start_time": "2024-02-14T11:17:53.737468",
     "status": "completed"
    },
    "tags": []
   },
   "outputs": [],
   "source": []
  },
  {
   "cell_type": "code",
   "execution_count": 19,
   "id": "f44d15af",
   "metadata": {
    "execution": {
     "iopub.execute_input": "2024-02-14T11:17:53.774380Z",
     "iopub.status.busy": "2024-02-14T11:17:53.773980Z",
     "iopub.status.idle": "2024-02-14T11:17:53.780705Z",
     "shell.execute_reply": "2024-02-14T11:17:53.779442Z"
    },
    "papermill": {
     "duration": 0.022582,
     "end_time": "2024-02-14T11:17:53.783185",
     "exception": false,
     "start_time": "2024-02-14T11:17:53.760603",
     "status": "completed"
    },
    "tags": []
   },
   "outputs": [
    {
     "data": {
      "text/plain": [
       "(1560, 3)"
      ]
     },
     "execution_count": 19,
     "metadata": {},
     "output_type": "execute_result"
    }
   ],
   "source": [
    "stacked_features_test.shape"
   ]
  },
  {
   "cell_type": "code",
   "execution_count": 20,
   "id": "3702e269",
   "metadata": {
    "execution": {
     "iopub.execute_input": "2024-02-14T11:17:53.808346Z",
     "iopub.status.busy": "2024-02-14T11:17:53.807910Z",
     "iopub.status.idle": "2024-02-14T11:17:53.814454Z",
     "shell.execute_reply": "2024-02-14T11:17:53.813322Z"
    },
    "papermill": {
     "duration": 0.021848,
     "end_time": "2024-02-14T11:17:53.816752",
     "exception": false,
     "start_time": "2024-02-14T11:17:53.794904",
     "status": "completed"
    },
    "tags": []
   },
   "outputs": [
    {
     "data": {
      "text/plain": [
       "(6239, 2)"
      ]
     },
     "execution_count": 20,
     "metadata": {},
     "output_type": "execute_result"
    }
   ],
   "source": [
    "Train_GT.shape"
   ]
  },
  {
   "cell_type": "code",
   "execution_count": null,
   "id": "c0fa7a48",
   "metadata": {
    "papermill": {
     "duration": 0.012651,
     "end_time": "2024-02-14T11:17:53.842018",
     "exception": false,
     "start_time": "2024-02-14T11:17:53.829367",
     "status": "completed"
    },
    "tags": []
   },
   "outputs": [],
   "source": []
  },
  {
   "cell_type": "code",
   "execution_count": 21,
   "id": "395159e3",
   "metadata": {
    "execution": {
     "iopub.execute_input": "2024-02-14T11:17:53.868626Z",
     "iopub.status.busy": "2024-02-14T11:17:53.868229Z",
     "iopub.status.idle": "2024-02-14T11:17:53.874767Z",
     "shell.execute_reply": "2024-02-14T11:17:53.873627Z"
    },
    "papermill": {
     "duration": 0.022324,
     "end_time": "2024-02-14T11:17:53.877010",
     "exception": false,
     "start_time": "2024-02-14T11:17:53.854686",
     "status": "completed"
    },
    "tags": []
   },
   "outputs": [
    {
     "data": {
      "text/plain": [
       "array([[0, 0, 0],\n",
       "       [1, 1, 1],\n",
       "       [0, 0, 0],\n",
       "       ...,\n",
       "       [1, 1, 1],\n",
       "       [1, 1, 1],\n",
       "       [1, 1, 1]])"
      ]
     },
     "execution_count": 21,
     "metadata": {},
     "output_type": "execute_result"
    }
   ],
   "source": [
    "stacked_features_train"
   ]
  },
  {
   "cell_type": "code",
   "execution_count": 22,
   "id": "005a1aaa",
   "metadata": {
    "execution": {
     "iopub.execute_input": "2024-02-14T11:17:53.903561Z",
     "iopub.status.busy": "2024-02-14T11:17:53.903183Z",
     "iopub.status.idle": "2024-02-14T11:17:53.909526Z",
     "shell.execute_reply": "2024-02-14T11:17:53.908660Z"
    },
    "papermill": {
     "duration": 0.021872,
     "end_time": "2024-02-14T11:17:53.911452",
     "exception": false,
     "start_time": "2024-02-14T11:17:53.889580",
     "status": "completed"
    },
    "tags": []
   },
   "outputs": [
    {
     "data": {
      "text/plain": [
       "(1560, 3)"
      ]
     },
     "execution_count": 22,
     "metadata": {},
     "output_type": "execute_result"
    }
   ],
   "source": [
    "stacked_features_test.shape"
   ]
  },
  {
   "cell_type": "code",
   "execution_count": 23,
   "id": "2e14b1ad",
   "metadata": {
    "execution": {
     "iopub.execute_input": "2024-02-14T11:17:53.936937Z",
     "iopub.status.busy": "2024-02-14T11:17:53.936565Z",
     "iopub.status.idle": "2024-02-14T11:17:53.941249Z",
     "shell.execute_reply": "2024-02-14T11:17:53.940362Z"
    },
    "papermill": {
     "duration": 0.019915,
     "end_time": "2024-02-14T11:17:53.943237",
     "exception": false,
     "start_time": "2024-02-14T11:17:53.923322",
     "status": "completed"
    },
    "tags": []
   },
   "outputs": [],
   "source": [
    "# Define classifiers\n",
    "classifiers = {\n",
    "    'Logistic Regression': LogisticRegression(),\n",
    "    'Random Forest': RandomForestClassifier(),\n",
    "    'Gradient Boosting': GradientBoostingClassifier(),\n",
    "    #'SVM': SVC(),\n",
    "   # 'K-Nearest Neighbors': KNeighborsClassifier(),\n",
    "    'Decision Tree': DecisionTreeClassifier(),\n",
    "    #'Naive Bayes': GaussianNB(),\n",
    "    #'Neural Network': MLPClassifier(),\n",
    "   # 'AdaBoost': AdaBoostClassifier(),\n",
    "\n",
    "    # Add more classifiers as needed\n",
    "}\n",
    "\n",
    "# Create an empty list to store results\n",
    "results = []"
   ]
  },
  {
   "cell_type": "code",
   "execution_count": 24,
   "id": "69b0d813",
   "metadata": {
    "execution": {
     "iopub.execute_input": "2024-02-14T11:17:53.970652Z",
     "iopub.status.busy": "2024-02-14T11:17:53.970012Z",
     "iopub.status.idle": "2024-02-14T11:17:54.506182Z",
     "shell.execute_reply": "2024-02-14T11:17:54.505271Z"
    },
    "papermill": {
     "duration": 0.552914,
     "end_time": "2024-02-14T11:17:54.508566",
     "exception": false,
     "start_time": "2024-02-14T11:17:53.955652",
     "status": "completed"
    },
    "tags": []
   },
   "outputs": [
    {
     "name": "stdout",
     "output_type": "stream",
     "text": [
      "\n",
      "Results:\n"
     ]
    },
    {
     "data": {
      "text/html": [
       "<div>\n",
       "<style scoped>\n",
       "    .dataframe tbody tr th:only-of-type {\n",
       "        vertical-align: middle;\n",
       "    }\n",
       "\n",
       "    .dataframe tbody tr th {\n",
       "        vertical-align: top;\n",
       "    }\n",
       "\n",
       "    .dataframe thead th {\n",
       "        text-align: right;\n",
       "    }\n",
       "</style>\n",
       "<table border=\"1\" class=\"dataframe\">\n",
       "  <thead>\n",
       "    <tr style=\"text-align: right;\">\n",
       "      <th></th>\n",
       "      <th>Classifier</th>\n",
       "      <th>Training Accurcay :</th>\n",
       "      <th>Test Accuracy</th>\n",
       "    </tr>\n",
       "  </thead>\n",
       "  <tbody>\n",
       "    <tr>\n",
       "      <th>0</th>\n",
       "      <td>Logistic Regression</td>\n",
       "      <td>0.99984</td>\n",
       "      <td>0.983333</td>\n",
       "    </tr>\n",
       "    <tr>\n",
       "      <th>1</th>\n",
       "      <td>Random Forest</td>\n",
       "      <td>0.99984</td>\n",
       "      <td>0.973077</td>\n",
       "    </tr>\n",
       "    <tr>\n",
       "      <th>2</th>\n",
       "      <td>Gradient Boosting</td>\n",
       "      <td>0.99984</td>\n",
       "      <td>0.966026</td>\n",
       "    </tr>\n",
       "    <tr>\n",
       "      <th>3</th>\n",
       "      <td>Decision Tree</td>\n",
       "      <td>0.99984</td>\n",
       "      <td>0.966026</td>\n",
       "    </tr>\n",
       "  </tbody>\n",
       "</table>\n",
       "</div>"
      ],
      "text/plain": [
       "            Classifier  Training Accurcay :  Test Accuracy\n",
       "0  Logistic Regression              0.99984       0.983333\n",
       "1        Random Forest              0.99984       0.973077\n",
       "2    Gradient Boosting              0.99984       0.966026\n",
       "3        Decision Tree              0.99984       0.966026"
      ]
     },
     "metadata": {},
     "output_type": "display_data"
    }
   ],
   "source": [
    "\n",
    "\n",
    "\n",
    "\n",
    "\n",
    "\n",
    "\n",
    "\n",
    "# Loop through classifiers and evaluate\n",
    "for classifier_name, classifier in classifiers.items():    \n",
    "    # Train and evaluate the meta-classifier\n",
    "    classifier.fit(stacked_features_train, Train_GT[\"Label\"])\n",
    "    meta_train_pred = classifier.predict(stacked_features_train)\n",
    "    #meta_val_pred = classifier.predict(stacked_features_val)\n",
    "    meta_test_pred = classifier.predict(stacked_features_test)\n",
    "    \n",
    "    # Calculate accuracy scores\n",
    "    tarin_accuracy = accuracy_score(Train_GT[\"Label\"], meta_train_pred)\n",
    "    #val_accuracy = accuracy_score(Val_GT[\"label\"], meta_val_pred)\n",
    "    test_accuracy = accuracy_score(Test_GT[\"Label\"], meta_test_pred)\n",
    "    \n",
    "    # Store results in the list\n",
    "    results.append({'Classifier': classifier_name,'Training Accurcay :':tarin_accuracy , 'Test Accuracy': test_accuracy})\n",
    "\n",
    "# Create a DataFrame from the list of results\n",
    "results_df = pd.DataFrame(results)\n",
    "\n",
    "# Display results in a table\n",
    "print(\"\\nResults:\")\n",
    "display(results_df)\n"
   ]
  },
  {
   "cell_type": "code",
   "execution_count": 25,
   "id": "8bccb1d8",
   "metadata": {
    "execution": {
     "iopub.execute_input": "2024-02-14T11:17:54.537065Z",
     "iopub.status.busy": "2024-02-14T11:17:54.534794Z",
     "iopub.status.idle": "2024-02-14T11:17:54.540930Z",
     "shell.execute_reply": "2024-02-14T11:17:54.540007Z"
    },
    "papermill": {
     "duration": 0.022491,
     "end_time": "2024-02-14T11:17:54.543211",
     "exception": false,
     "start_time": "2024-02-14T11:17:54.520720",
     "status": "completed"
    },
    "tags": []
   },
   "outputs": [],
   "source": [
    "\n",
    "\n",
    "#RF_Test_Pred\n"
   ]
  },
  {
   "cell_type": "code",
   "execution_count": 26,
   "id": "a51eb6e4",
   "metadata": {
    "execution": {
     "iopub.execute_input": "2024-02-14T11:17:54.570423Z",
     "iopub.status.busy": "2024-02-14T11:17:54.569099Z",
     "iopub.status.idle": "2024-02-14T11:17:55.254183Z",
     "shell.execute_reply": "2024-02-14T11:17:55.253028Z"
    },
    "papermill": {
     "duration": 0.70148,
     "end_time": "2024-02-14T11:17:55.256973",
     "exception": false,
     "start_time": "2024-02-14T11:17:54.555493",
     "status": "completed"
    },
    "tags": []
   },
   "outputs": [
    {
     "name": "stdout",
     "output_type": "stream",
     "text": [
      "Best Hyperparameters: {'C': 0.001}\n",
      "Training Accuracy: 0.9998397179035102\n",
      "Test Accuracy: 0.9833333333333333\n"
     ]
    }
   ],
   "source": [
    "from sklearn.model_selection import GridSearchCV\n",
    "\n",
    "# Create a new dataset for the meta-classifier\n",
    "#stacked_features_train = np.column_stack((CNN_Train_Pred[\"Label\"], NB_Train_Pred[\"label\"]))\n",
    "#stacked_features_test = np.column_stack((CNN_Test_Pred[\"Label\"], NB_Test_Pred[\"label\"]))\n",
    "\n",
    "# Define the meta-classifier and its parameter grid for grid search\n",
    "meta_classifier = LogisticRegression()\n",
    "param_grid = {\n",
    "    'C': [0.0001, 0.001, 0.01, 0.1, 1, 10, 100, 1000],\n",
    "}\n",
    "\n",
    "# Perform grid search\n",
    "grid_search = GridSearchCV(meta_classifier, param_grid, cv=5, scoring='accuracy')\n",
    "grid_search.fit(stacked_features_train, Train_GT[\"Label\"])\n",
    "\n",
    "# Get the best hyperparameters\n",
    "best_params = grid_search.best_params_\n",
    "\n",
    "# Train the meta-classifier with the best hyperparameters\n",
    "meta_classifier = LogisticRegression(**best_params)\n",
    "meta_classifier.fit(stacked_features_train, Train_GT[\"Label\"])\n",
    "\n",
    "# Get predictions and accuracy scores\n",
    "META_Train_Pred = meta_classifier.predict(stacked_features_train)\n",
    "train_accuracy = accuracy_score(Train_GT[\"Label\"], META_Train_Pred)\n",
    "\n",
    "META_Test_Pred = meta_classifier.predict(stacked_features_test)\n",
    "test_accuracy = accuracy_score(Test_GT[\"Label\"], META_Test_Pred)\n",
    "\n",
    "# Display results\n",
    "print(\"Best Hyperparameters:\", best_params)\n",
    "print(\"Training Accuracy:\", train_accuracy)\n",
    "print(\"Test Accuracy:\", test_accuracy)\n"
   ]
  },
  {
   "cell_type": "code",
   "execution_count": 27,
   "id": "7dc9b0cb",
   "metadata": {
    "execution": {
     "iopub.execute_input": "2024-02-14T11:17:55.301320Z",
     "iopub.status.busy": "2024-02-14T11:17:55.300697Z",
     "iopub.status.idle": "2024-02-14T11:17:55.309297Z",
     "shell.execute_reply": "2024-02-14T11:17:55.307979Z"
    },
    "papermill": {
     "duration": 0.034607,
     "end_time": "2024-02-14T11:17:55.312887",
     "exception": false,
     "start_time": "2024-02-14T11:17:55.278280",
     "status": "completed"
    },
    "tags": []
   },
   "outputs": [],
   "source": [
    "# # Create a new dataset for the meta-classifier\n",
    "# stacked_features_train = np.column_stack((CNN_Train_Pred[\"Label\"], NB_Train_Pred[\"label\"]))\n",
    "# stacked_features_test = np.column_stack((CNN_Test_Pred[\"Label\"], NB_Test_Pred[\"label\"]))\n",
    "\n",
    "# meta_classifier = LogisticRegression()\n",
    "\n",
    "# meta_classifier.fit(stacked_features_train, Train_GT[\"label\"])\n",
    "# META_Train_Pred = meta_classifier.predict(stacked_features_train)\n",
    "# accuracy_score(Train_GT[\"label\"], META_Train_Pred)\n",
    "\n",
    "# META_Test_Pred = meta_classifier.predict(stacked_features_test)\n",
    "# accuracy_score(Test_GT[\"label\"], META_Test_Pred)"
   ]
  },
  {
   "cell_type": "code",
   "execution_count": 28,
   "id": "8f7cd81f",
   "metadata": {
    "execution": {
     "iopub.execute_input": "2024-02-14T11:17:55.356847Z",
     "iopub.status.busy": "2024-02-14T11:17:55.356290Z",
     "iopub.status.idle": "2024-02-14T11:17:55.373616Z",
     "shell.execute_reply": "2024-02-14T11:17:55.372825Z"
    },
    "papermill": {
     "duration": 0.04208,
     "end_time": "2024-02-14T11:17:55.375790",
     "exception": false,
     "start_time": "2024-02-14T11:17:55.333710",
     "status": "completed"
    },
    "tags": []
   },
   "outputs": [
    {
     "name": "stdout",
     "output_type": "stream",
     "text": [
      "Accuracy of the Majority Voting Ensemble: 0.60\n"
     ]
    }
   ],
   "source": [
    "NB_Test_Pred.shape\n",
    "#CNN_Test_Pred\n",
    "#RF_Test_Pred\n",
    "DT_Test_Pred.shape\n",
    "CNN_Test_Pred.shape\n",
    "\n",
    "# Majority Voting\n",
    "# cnn_binary_predictions = (cnn_predictions[\"0\"] > 0.5).astype(int)\n",
    "# nb_binary_predictions = (naive_bayes_predictions[\"0\"] > 0.5).astype(int)\n",
    "\n",
    "# Sum the binary predictions (0 or 1) from both classifiers\n",
    "sum_predictions = NB_Test_Pred[\"Label\"] + DT_Test_Pred[\"Label\"] + CNN_Test_Pred[\"Label\"]\n",
    "sum_predictions\n",
    "# Ensemble prediction: if the sum is greater than or equal to 1, predict 1; otherwise, predict 0\n",
    "ensemble_predictions = (sum_predictions >= 2).astype(int)\n",
    "#ensemble_predictions \n",
    "# Evaluate the performance\n",
    "accuracy = accuracy_score(Test_GT[\"Label\"], ensemble_predictions)\n",
    "print(f\"Accuracy of the Majority Voting Ensemble: {accuracy:.2f}\")"
   ]
  },
  {
   "cell_type": "code",
   "execution_count": 29,
   "id": "fa1dcbca",
   "metadata": {
    "execution": {
     "iopub.execute_input": "2024-02-14T11:17:55.402782Z",
     "iopub.status.busy": "2024-02-14T11:17:55.401758Z",
     "iopub.status.idle": "2024-02-14T11:17:55.413225Z",
     "shell.execute_reply": "2024-02-14T11:17:55.411910Z"
    },
    "papermill": {
     "duration": 0.027563,
     "end_time": "2024-02-14T11:17:55.415795",
     "exception": false,
     "start_time": "2024-02-14T11:17:55.388232",
     "status": "completed"
    },
    "tags": []
   },
   "outputs": [
    {
     "data": {
      "text/html": [
       "<div>\n",
       "<style scoped>\n",
       "    .dataframe tbody tr th:only-of-type {\n",
       "        vertical-align: middle;\n",
       "    }\n",
       "\n",
       "    .dataframe tbody tr th {\n",
       "        vertical-align: top;\n",
       "    }\n",
       "\n",
       "    .dataframe thead th {\n",
       "        text-align: right;\n",
       "    }\n",
       "</style>\n",
       "<table border=\"1\" class=\"dataframe\">\n",
       "  <thead>\n",
       "    <tr style=\"text-align: right;\">\n",
       "      <th></th>\n",
       "      <th>Image_ID</th>\n",
       "      <th>Label</th>\n",
       "    </tr>\n",
       "  </thead>\n",
       "  <tbody>\n",
       "    <tr>\n",
       "      <th>563</th>\n",
       "      <td>emailimage_0005.1999-12-14.farmer.ham.txt</td>\n",
       "      <td>0</td>\n",
       "    </tr>\n",
       "    <tr>\n",
       "      <th>529</th>\n",
       "      <td>emailimage_0021.1999-12-15.farmer.ham.txt</td>\n",
       "      <td>0</td>\n",
       "    </tr>\n",
       "    <tr>\n",
       "      <th>0</th>\n",
       "      <td>emailimage_0030.1999-12-20.farmer.ham.txt</td>\n",
       "      <td>0</td>\n",
       "    </tr>\n",
       "    <tr>\n",
       "      <th>603</th>\n",
       "      <td>emailimage_0037.1999-12-20.farmer.ham.txt</td>\n",
       "      <td>0</td>\n",
       "    </tr>\n",
       "    <tr>\n",
       "      <th>577</th>\n",
       "      <td>emailimage_0048.1999-12-21.farmer.ham.txt</td>\n",
       "      <td>0</td>\n",
       "    </tr>\n",
       "    <tr>\n",
       "      <th>...</th>\n",
       "      <td>...</td>\n",
       "      <td>...</td>\n",
       "    </tr>\n",
       "    <tr>\n",
       "      <th>1262</th>\n",
       "      <td>emailscreenshot-spam- (984)</td>\n",
       "      <td>1</td>\n",
       "    </tr>\n",
       "    <tr>\n",
       "      <th>1550</th>\n",
       "      <td>emailscreenshot-spam- (985)</td>\n",
       "      <td>1</td>\n",
       "    </tr>\n",
       "    <tr>\n",
       "      <th>1299</th>\n",
       "      <td>emailscreenshot-spam- (989)</td>\n",
       "      <td>1</td>\n",
       "    </tr>\n",
       "    <tr>\n",
       "      <th>1401</th>\n",
       "      <td>emailscreenshot-spam- (994)</td>\n",
       "      <td>1</td>\n",
       "    </tr>\n",
       "    <tr>\n",
       "      <th>1405</th>\n",
       "      <td>emailscreenshot-spam- (995)</td>\n",
       "      <td>1</td>\n",
       "    </tr>\n",
       "  </tbody>\n",
       "</table>\n",
       "<p>1560 rows × 2 columns</p>\n",
       "</div>"
      ],
      "text/plain": [
       "                                       Image_ID  Label\n",
       "563   emailimage_0005.1999-12-14.farmer.ham.txt      0\n",
       "529   emailimage_0021.1999-12-15.farmer.ham.txt      0\n",
       "0     emailimage_0030.1999-12-20.farmer.ham.txt      0\n",
       "603   emailimage_0037.1999-12-20.farmer.ham.txt      0\n",
       "577   emailimage_0048.1999-12-21.farmer.ham.txt      0\n",
       "...                                         ...    ...\n",
       "1262                emailscreenshot-spam- (984)      1\n",
       "1550                emailscreenshot-spam- (985)      1\n",
       "1299                emailscreenshot-spam- (989)      1\n",
       "1401                emailscreenshot-spam- (994)      1\n",
       "1405                emailscreenshot-spam- (995)      1\n",
       "\n",
       "[1560 rows x 2 columns]"
      ]
     },
     "execution_count": 29,
     "metadata": {},
     "output_type": "execute_result"
    }
   ],
   "source": [
    "\n",
    "CNN_Test_Pred"
   ]
  },
  {
   "cell_type": "code",
   "execution_count": 30,
   "id": "3a79a2b3",
   "metadata": {
    "execution": {
     "iopub.execute_input": "2024-02-14T11:17:55.443156Z",
     "iopub.status.busy": "2024-02-14T11:17:55.442722Z",
     "iopub.status.idle": "2024-02-14T11:17:55.454821Z",
     "shell.execute_reply": "2024-02-14T11:17:55.453725Z"
    },
    "papermill": {
     "duration": 0.028442,
     "end_time": "2024-02-14T11:17:55.457069",
     "exception": false,
     "start_time": "2024-02-14T11:17:55.428627",
     "status": "completed"
    },
    "tags": []
   },
   "outputs": [
    {
     "data": {
      "text/html": [
       "<div>\n",
       "<style scoped>\n",
       "    .dataframe tbody tr th:only-of-type {\n",
       "        vertical-align: middle;\n",
       "    }\n",
       "\n",
       "    .dataframe tbody tr th {\n",
       "        vertical-align: top;\n",
       "    }\n",
       "\n",
       "    .dataframe thead th {\n",
       "        text-align: right;\n",
       "    }\n",
       "</style>\n",
       "<table border=\"1\" class=\"dataframe\">\n",
       "  <thead>\n",
       "    <tr style=\"text-align: right;\">\n",
       "      <th></th>\n",
       "      <th>Text_ID</th>\n",
       "      <th>Label</th>\n",
       "    </tr>\n",
       "  </thead>\n",
       "  <tbody>\n",
       "    <tr>\n",
       "      <th>1412</th>\n",
       "      <td>emailimage_0005.1999-12-14.farmer.ham.txt</td>\n",
       "      <td>0</td>\n",
       "    </tr>\n",
       "    <tr>\n",
       "      <th>746</th>\n",
       "      <td>emailimage_0021.1999-12-15.farmer.ham.txt</td>\n",
       "      <td>1</td>\n",
       "    </tr>\n",
       "    <tr>\n",
       "      <th>1345</th>\n",
       "      <td>emailimage_0030.1999-12-20.farmer.ham.txt</td>\n",
       "      <td>0</td>\n",
       "    </tr>\n",
       "    <tr>\n",
       "      <th>1385</th>\n",
       "      <td>emailimage_0037.1999-12-20.farmer.ham.txt</td>\n",
       "      <td>1</td>\n",
       "    </tr>\n",
       "    <tr>\n",
       "      <th>1087</th>\n",
       "      <td>emailimage_0048.1999-12-21.farmer.ham.txt</td>\n",
       "      <td>0</td>\n",
       "    </tr>\n",
       "    <tr>\n",
       "      <th>...</th>\n",
       "      <td>...</td>\n",
       "      <td>...</td>\n",
       "    </tr>\n",
       "    <tr>\n",
       "      <th>995</th>\n",
       "      <td>emailscreenshot-spam- (984)</td>\n",
       "      <td>1</td>\n",
       "    </tr>\n",
       "    <tr>\n",
       "      <th>416</th>\n",
       "      <td>emailscreenshot-spam- (985)</td>\n",
       "      <td>1</td>\n",
       "    </tr>\n",
       "    <tr>\n",
       "      <th>635</th>\n",
       "      <td>emailscreenshot-spam- (989)</td>\n",
       "      <td>1</td>\n",
       "    </tr>\n",
       "    <tr>\n",
       "      <th>116</th>\n",
       "      <td>emailscreenshot-spam- (994)</td>\n",
       "      <td>1</td>\n",
       "    </tr>\n",
       "    <tr>\n",
       "      <th>1148</th>\n",
       "      <td>emailscreenshot-spam- (995)</td>\n",
       "      <td>1</td>\n",
       "    </tr>\n",
       "  </tbody>\n",
       "</table>\n",
       "<p>1560 rows × 2 columns</p>\n",
       "</div>"
      ],
      "text/plain": [
       "                                        Text_ID  Label\n",
       "1412  emailimage_0005.1999-12-14.farmer.ham.txt      0\n",
       "746   emailimage_0021.1999-12-15.farmer.ham.txt      1\n",
       "1345  emailimage_0030.1999-12-20.farmer.ham.txt      0\n",
       "1385  emailimage_0037.1999-12-20.farmer.ham.txt      1\n",
       "1087  emailimage_0048.1999-12-21.farmer.ham.txt      0\n",
       "...                                         ...    ...\n",
       "995                 emailscreenshot-spam- (984)      1\n",
       "416                 emailscreenshot-spam- (985)      1\n",
       "635                 emailscreenshot-spam- (989)      1\n",
       "116                 emailscreenshot-spam- (994)      1\n",
       "1148                emailscreenshot-spam- (995)      1\n",
       "\n",
       "[1560 rows x 2 columns]"
      ]
     },
     "execution_count": 30,
     "metadata": {},
     "output_type": "execute_result"
    }
   ],
   "source": [
    "\n",
    "DT_Test_Pred"
   ]
  },
  {
   "cell_type": "code",
   "execution_count": 31,
   "id": "57f5648c",
   "metadata": {
    "execution": {
     "iopub.execute_input": "2024-02-14T11:17:55.484899Z",
     "iopub.status.busy": "2024-02-14T11:17:55.484464Z",
     "iopub.status.idle": "2024-02-14T11:17:55.496891Z",
     "shell.execute_reply": "2024-02-14T11:17:55.495752Z"
    },
    "papermill": {
     "duration": 0.028879,
     "end_time": "2024-02-14T11:17:55.499078",
     "exception": false,
     "start_time": "2024-02-14T11:17:55.470199",
     "status": "completed"
    },
    "tags": []
   },
   "outputs": [
    {
     "data": {
      "text/html": [
       "<div>\n",
       "<style scoped>\n",
       "    .dataframe tbody tr th:only-of-type {\n",
       "        vertical-align: middle;\n",
       "    }\n",
       "\n",
       "    .dataframe tbody tr th {\n",
       "        vertical-align: top;\n",
       "    }\n",
       "\n",
       "    .dataframe thead th {\n",
       "        text-align: right;\n",
       "    }\n",
       "</style>\n",
       "<table border=\"1\" class=\"dataframe\">\n",
       "  <thead>\n",
       "    <tr style=\"text-align: right;\">\n",
       "      <th></th>\n",
       "      <th>Text_ID</th>\n",
       "      <th>Label</th>\n",
       "    </tr>\n",
       "  </thead>\n",
       "  <tbody>\n",
       "    <tr>\n",
       "      <th>1070</th>\n",
       "      <td>emailimage_0005.1999-12-14.farmer.ham.txt</td>\n",
       "      <td>0</td>\n",
       "    </tr>\n",
       "    <tr>\n",
       "      <th>556</th>\n",
       "      <td>emailimage_0021.1999-12-15.farmer.ham.txt</td>\n",
       "      <td>1</td>\n",
       "    </tr>\n",
       "    <tr>\n",
       "      <th>995</th>\n",
       "      <td>emailimage_0030.1999-12-20.farmer.ham.txt</td>\n",
       "      <td>0</td>\n",
       "    </tr>\n",
       "    <tr>\n",
       "      <th>1286</th>\n",
       "      <td>emailimage_0037.1999-12-20.farmer.ham.txt</td>\n",
       "      <td>0</td>\n",
       "    </tr>\n",
       "    <tr>\n",
       "      <th>125</th>\n",
       "      <td>emailimage_0048.1999-12-21.farmer.ham.txt</td>\n",
       "      <td>0</td>\n",
       "    </tr>\n",
       "    <tr>\n",
       "      <th>...</th>\n",
       "      <td>...</td>\n",
       "      <td>...</td>\n",
       "    </tr>\n",
       "    <tr>\n",
       "      <th>1012</th>\n",
       "      <td>emailscreenshot-spam- (984)</td>\n",
       "      <td>1</td>\n",
       "    </tr>\n",
       "    <tr>\n",
       "      <th>1424</th>\n",
       "      <td>emailscreenshot-spam- (985)</td>\n",
       "      <td>1</td>\n",
       "    </tr>\n",
       "    <tr>\n",
       "      <th>1409</th>\n",
       "      <td>emailscreenshot-spam- (989)</td>\n",
       "      <td>1</td>\n",
       "    </tr>\n",
       "    <tr>\n",
       "      <th>1467</th>\n",
       "      <td>emailscreenshot-spam- (994)</td>\n",
       "      <td>1</td>\n",
       "    </tr>\n",
       "    <tr>\n",
       "      <th>176</th>\n",
       "      <td>emailscreenshot-spam- (995)</td>\n",
       "      <td>1</td>\n",
       "    </tr>\n",
       "  </tbody>\n",
       "</table>\n",
       "<p>1560 rows × 2 columns</p>\n",
       "</div>"
      ],
      "text/plain": [
       "                                        Text_ID  Label\n",
       "1070  emailimage_0005.1999-12-14.farmer.ham.txt      0\n",
       "556   emailimage_0021.1999-12-15.farmer.ham.txt      1\n",
       "995   emailimage_0030.1999-12-20.farmer.ham.txt      0\n",
       "1286  emailimage_0037.1999-12-20.farmer.ham.txt      0\n",
       "125   emailimage_0048.1999-12-21.farmer.ham.txt      0\n",
       "...                                         ...    ...\n",
       "1012                emailscreenshot-spam- (984)      1\n",
       "1424                emailscreenshot-spam- (985)      1\n",
       "1409                emailscreenshot-spam- (989)      1\n",
       "1467                emailscreenshot-spam- (994)      1\n",
       "176                 emailscreenshot-spam- (995)      1\n",
       "\n",
       "[1560 rows x 2 columns]"
      ]
     },
     "execution_count": 31,
     "metadata": {},
     "output_type": "execute_result"
    }
   ],
   "source": [
    "\n",
    "NB_Test_Pred\n"
   ]
  },
  {
   "cell_type": "code",
   "execution_count": null,
   "id": "bf1bbfa6",
   "metadata": {
    "papermill": {
     "duration": 0.031633,
     "end_time": "2024-02-14T11:17:55.543974",
     "exception": false,
     "start_time": "2024-02-14T11:17:55.512341",
     "status": "completed"
    },
    "tags": []
   },
   "outputs": [],
   "source": []
  },
  {
   "cell_type": "code",
   "execution_count": null,
   "id": "81034eb2",
   "metadata": {
    "papermill": {
     "duration": 0.012825,
     "end_time": "2024-02-14T11:17:55.570133",
     "exception": false,
     "start_time": "2024-02-14T11:17:55.557308",
     "status": "completed"
    },
    "tags": []
   },
   "outputs": [],
   "source": []
  },
  {
   "cell_type": "code",
   "execution_count": null,
   "id": "ff9fdf0d",
   "metadata": {
    "papermill": {
     "duration": 0.012663,
     "end_time": "2024-02-14T11:17:55.595991",
     "exception": false,
     "start_time": "2024-02-14T11:17:55.583328",
     "status": "completed"
    },
    "tags": []
   },
   "outputs": [],
   "source": []
  },
  {
   "cell_type": "code",
   "execution_count": null,
   "id": "17b7a826",
   "metadata": {
    "papermill": {
     "duration": 0.012801,
     "end_time": "2024-02-14T11:17:55.622140",
     "exception": false,
     "start_time": "2024-02-14T11:17:55.609339",
     "status": "completed"
    },
    "tags": []
   },
   "outputs": [],
   "source": []
  },
  {
   "cell_type": "code",
   "execution_count": null,
   "id": "5fe37414",
   "metadata": {
    "papermill": {
     "duration": 0.012601,
     "end_time": "2024-02-14T11:17:55.647751",
     "exception": false,
     "start_time": "2024-02-14T11:17:55.635150",
     "status": "completed"
    },
    "tags": []
   },
   "outputs": [],
   "source": []
  },
  {
   "cell_type": "code",
   "execution_count": null,
   "id": "d745e576",
   "metadata": {
    "papermill": {
     "duration": 0.012634,
     "end_time": "2024-02-14T11:17:55.673316",
     "exception": false,
     "start_time": "2024-02-14T11:17:55.660682",
     "status": "completed"
    },
    "tags": []
   },
   "outputs": [],
   "source": [
    "\n"
   ]
  },
  {
   "cell_type": "code",
   "execution_count": null,
   "id": "7558d5c1",
   "metadata": {
    "papermill": {
     "duration": 0.012537,
     "end_time": "2024-02-14T11:17:55.698743",
     "exception": false,
     "start_time": "2024-02-14T11:17:55.686206",
     "status": "completed"
    },
    "tags": []
   },
   "outputs": [],
   "source": []
  },
  {
   "cell_type": "code",
   "execution_count": null,
   "id": "c01a5dae",
   "metadata": {
    "papermill": {
     "duration": 0.012626,
     "end_time": "2024-02-14T11:17:55.724415",
     "exception": false,
     "start_time": "2024-02-14T11:17:55.711789",
     "status": "completed"
    },
    "tags": []
   },
   "outputs": [],
   "source": []
  },
  {
   "cell_type": "code",
   "execution_count": 33,
   "id": "1ce41570",
   "metadata": {
    "execution": {
     "iopub.execute_input": "2024-02-14T11:17:55.754006Z",
     "iopub.status.busy": "2024-02-14T11:17:55.752934Z",
     "iopub.status.idle": "2024-02-14T11:17:55.757363Z",
     "shell.execute_reply": "2024-02-14T11:17:55.756639Z"
    },
    "papermill": {
     "duration": 0.020986,
     "end_time": "2024-02-14T11:17:55.759243",
     "exception": false,
     "start_time": "2024-02-14T11:17:55.738257",
     "status": "completed"
    },
    "tags": []
   },
   "outputs": [],
   "source": []
  },
  {
   "cell_type": "code",
   "execution_count": 34,
   "id": "6ac2ba8a",
   "metadata": {
    "execution": {
     "iopub.execute_input": "2024-02-14T11:17:55.786820Z",
     "iopub.status.busy": "2024-02-14T11:17:55.786455Z",
     "iopub.status.idle": "2024-02-14T11:17:55.791206Z",
     "shell.execute_reply": "2024-02-14T11:17:55.789960Z"
    },
    "papermill": {
     "duration": 0.021193,
     "end_time": "2024-02-14T11:17:55.793599",
     "exception": false,
     "start_time": "2024-02-14T11:17:55.772406",
     "status": "completed"
    },
    "tags": []
   },
   "outputs": [],
   "source": []
  }
 ],
 "metadata": {
  "kaggle": {
   "accelerator": "none",
   "dataSources": [
    {
     "datasetId": 4357513,
     "sourceId": 7485207,
     "sourceType": "datasetVersion"
    },
    {
     "datasetId": 4368325,
     "sourceId": 7533358,
     "sourceType": "datasetVersion"
    },
    {
     "datasetId": 4414019,
     "sourceId": 7623712,
     "sourceType": "datasetVersion"
    }
   ],
   "dockerImageVersionId": 30635,
   "isGpuEnabled": false,
   "isInternetEnabled": true,
   "language": "python",
   "sourceType": "notebook"
  },
  "kernelspec": {
   "display_name": "Python 3 (ipykernel)",
   "language": "python",
   "name": "python3"
  },
  "language_info": {
   "codemirror_mode": {
    "name": "ipython",
    "version": 3
   },
   "file_extension": ".py",
   "mimetype": "text/x-python",
   "name": "python",
   "nbconvert_exporter": "python",
   "pygments_lexer": "ipython3",
   "version": "3.12.4"
  },
  "papermill": {
   "default_parameters": {},
   "duration": 10.599281,
   "end_time": "2024-02-14T11:17:56.427522",
   "environment_variables": {},
   "exception": null,
   "input_path": "__notebook__.ipynb",
   "output_path": "__notebook__.ipynb",
   "parameters": {},
   "start_time": "2024-02-14T11:17:45.828241",
   "version": "2.4.0"
  }
 },
 "nbformat": 4,
 "nbformat_minor": 5
}
