{
 "cells": [
  {
   "cell_type": "code",
   "execution_count": 1,
   "id": "e77b973f",
   "metadata": {
    "execution": {
     "iopub.execute_input": "2024-02-12T23:58:17.137943Z",
     "iopub.status.busy": "2024-02-12T23:58:17.136449Z",
     "iopub.status.idle": "2024-02-12T23:58:17.141790Z",
     "shell.execute_reply": "2024-02-12T23:58:17.141087Z"
    },
    "papermill": {
     "duration": 0.012712,
     "end_time": "2024-02-12T23:58:17.143609",
     "exception": false,
     "start_time": "2024-02-12T23:58:17.130897",
     "status": "completed"
    },
    "tags": []
   },
   "outputs": [],
   "source": [
    "#!pip install pyspellchecker==0.5.6"
   ]
  },
  {
   "cell_type": "code",
   "execution_count": 2,
   "id": "85ebdee1",
   "metadata": {
    "_cell_guid": "b1076dfc-b9ad-4769-8c92-a6c4dae69d19",
    "_uuid": "8f2839f25d086af736a60e9eeb907d3b93b6e0e5",
    "execution": {
     "iopub.execute_input": "2024-02-12T23:58:17.153009Z",
     "iopub.status.busy": "2024-02-12T23:58:17.152226Z",
     "iopub.status.idle": "2024-02-12T23:58:20.132689Z",
     "shell.execute_reply": "2024-02-12T23:58:20.131682Z"
    },
    "papermill": {
     "duration": 2.987415,
     "end_time": "2024-02-12T23:58:20.135002",
     "exception": false,
     "start_time": "2024-02-12T23:58:17.147587",
     "status": "completed"
    },
    "tags": []
   },
   "outputs": [],
   "source": [
    "#from spellchecker import SpellChecker\n",
    "from sklearn.feature_extraction.text import CountVectorizer\n",
    "from sklearn.model_selection import train_test_split\n",
    "import numpy as np\n",
    "import pandas as pd\n",
    "import nltk\n",
    "import os\n",
    "import matplotlib.pyplot as plt\n",
    "import seaborn as sns\n",
    "from sklearn.metrics import classification_report, confusion_matrix\n",
    "from sklearn.linear_model import LogisticRegression\n",
    "from sklearn.tree import DecisionTreeClassifier\n",
    "from sklearn.ensemble import RandomForestClassifier\n",
    "from sklearn.svm import SVC\n",
    "from sklearn.neighbors import KNeighborsClassifier\n",
    "from sklearn.naive_bayes import GaussianNB\n",
    "from sklearn.ensemble import GradientBoostingClassifier\n",
    "from sklearn.ensemble import AdaBoostClassifier\n",
    "from sklearn.ensemble import BaggingClassifier\n",
    "from tqdm import tqdm\n",
    "from multiprocessing import Pool\n",
    "import os\n",
    "from sklearn.metrics import log_loss"
   ]
  },
  {
   "cell_type": "code",
   "execution_count": 3,
   "id": "9e88b383",
   "metadata": {
    "execution": {
     "iopub.execute_input": "2024-02-12T23:58:20.143804Z",
     "iopub.status.busy": "2024-02-12T23:58:20.143371Z",
     "iopub.status.idle": "2024-02-12T23:59:11.567513Z",
     "shell.execute_reply": "2024-02-12T23:59:11.566341Z"
    },
    "papermill": {
     "duration": 51.434812,
     "end_time": "2024-02-12T23:59:11.573577",
     "exception": false,
     "start_time": "2024-02-12T23:58:20.138765",
     "status": "completed"
    },
    "tags": []
   },
   "outputs": [
    {
     "data": {
      "text/html": [
       "<div>\n",
       "<style scoped>\n",
       "    .dataframe tbody tr th:only-of-type {\n",
       "        vertical-align: middle;\n",
       "    }\n",
       "\n",
       "    .dataframe tbody tr th {\n",
       "        vertical-align: top;\n",
       "    }\n",
       "\n",
       "    .dataframe thead th {\n",
       "        text-align: right;\n",
       "    }\n",
       "</style>\n",
       "<table border=\"1\" class=\"dataframe\">\n",
       "  <thead>\n",
       "    <tr style=\"text-align: right;\">\n",
       "      <th></th>\n",
       "      <th>text</th>\n",
       "      <th>Text_ID</th>\n",
       "      <th>Label</th>\n",
       "    </tr>\n",
       "  </thead>\n",
       "  <tbody>\n",
       "    <tr>\n",
       "      <th>0</th>\n",
       "      <td>Subject: kwbt bio - tech signs letter of inten...</td>\n",
       "      <td>emailimage_1628.2004-07-16.GP.spam.txt</td>\n",
       "      <td>spam</td>\n",
       "    </tr>\n",
       "    <tr>\n",
       "      <th>1</th>\n",
       "      <td>Subject: supply for midlothian daren - - fyi -...</td>\n",
       "      <td>emailimage_2177.2000-09-07.farmer.ham.txt</td>\n",
       "      <td>ham</td>\n",
       "    </tr>\n",
       "    <tr>\n",
       "      <th>2</th>\n",
       "      <td>Subject: start date : 2/2/02 ; hourahead hour ...</td>\n",
       "      <td>emailimage_ham__5779.2002-02-02.williams.ham</td>\n",
       "      <td>ham</td>\n",
       "    </tr>\n",
       "    <tr>\n",
       "      <th>3</th>\n",
       "      <td>Subject: prozacs meds 30 million people now re...</td>\n",
       "      <td>emailimage_1142.2004-05-18.GP.spam.txt</td>\n",
       "      <td>spam</td>\n",
       "    </tr>\n",
       "    <tr>\n",
       "      <th>4</th>\n",
       "      <td>Subject: re : noms / actual flow for 03 / 09 t...</td>\n",
       "      <td>emailimage_3761.2001-03-12.farmer.ham.txt</td>\n",
       "      <td>ham</td>\n",
       "    </tr>\n",
       "  </tbody>\n",
       "</table>\n",
       "</div>"
      ],
      "text/plain": [
       "                                                text  \\\n",
       "0  Subject: kwbt bio - tech signs letter of inten...   \n",
       "1  Subject: supply for midlothian daren - - fyi -...   \n",
       "2  Subject: start date : 2/2/02 ; hourahead hour ...   \n",
       "3  Subject: prozacs meds 30 million people now re...   \n",
       "4  Subject: re : noms / actual flow for 03 / 09 t...   \n",
       "\n",
       "                                        Text_ID Label  \n",
       "0        emailimage_1628.2004-07-16.GP.spam.txt  spam  \n",
       "1     emailimage_2177.2000-09-07.farmer.ham.txt   ham  \n",
       "2  emailimage_ham__5779.2002-02-02.williams.ham   ham  \n",
       "3        emailimage_1142.2004-05-18.GP.spam.txt  spam  \n",
       "4     emailimage_3761.2001-03-12.farmer.ham.txt   ham  "
      ]
     },
     "execution_count": 3,
     "metadata": {},
     "output_type": "execute_result"
    }
   ],
   "source": [
    "ham_path = '/kaggle/input/dataset-for-visual-based-spam-filtering/Final dataset/OCR_SpamHamEnron1Enron4SpamAssasin/OCR_SpamHamEnron1+Enron4+SpamAssasin/extracted_text_ham'\n",
    "spam_path = '/kaggle/input/dataset-for-visual-based-spam-filtering/Final dataset/OCR_SpamHamEnron1Enron4SpamAssasin/OCR_SpamHamEnron1+Enron4+SpamAssasin/extracted_text_spam'\n",
    "\n",
    "# Function to get data with spelling correction\n",
    "def get_data(path, Label):\n",
    "    file_contents = []\n",
    "    ids = []\n",
    "    for file in os.listdir(path):\n",
    "        with open(os.path.join(path, file), encoding=\"ISO-8859-1\") as f:\n",
    "            content = f.read()\n",
    "            #corrected_content = spell_checker.correction(content)  # Use correction instead of correct\n",
    "            file_contents.append(content)\n",
    "            ids.append(file[:-4])\n",
    "\n",
    "    Labeled_data = []\n",
    "    for content, id in zip(file_contents, ids):\n",
    "        Labeled_data.append({'text': content, 'Text_ID': id, 'Label': Label})\n",
    "    return Labeled_data\n",
    "\n",
    "# Create a SpellChecker instance\n",
    "#spell_checker = SpellChecker()\n",
    "\n",
    "# Get data for ham and spam with spelling correction\n",
    "ham = get_data(ham_path, 'ham')\n",
    "spam = get_data(spam_path, 'spam')\n",
    "\n",
    "# Shuffle the data\n",
    "np.random.shuffle(ham)\n",
    "np.random.shuffle(spam)\n",
    "\n",
    "# Combine ham and spam data\n",
    "data = ham + spam\n",
    "np.random.shuffle(data) \n",
    "\n",
    "# Create a DataFrame\n",
    "df = pd.DataFrame(data)\n",
    "df.head()\n",
    "\n",
    " \n",
    "\n",
    "# def get_data(path, Label):\n",
    "#     file_contents = []\n",
    "#     ids = []\n",
    "#     for file in os.listdir(path):\n",
    "#         with open(os.path.join(path, file), encoding=\"ISO-8859-1\") as f:\n",
    "#             file_contents.append(f.read())\n",
    "#             ids.append(file[:-4])\n",
    "\n",
    "#     Labeled_data = []\n",
    "#     for content, id in zip(file_contents, ids):\n",
    "#         Labeled_data.append({'text': content, 'text_ID': id, 'Label': Label})\n",
    "#     return Labeled_data\n",
    "\n",
    "# ham = get_data(ham_path, 'ham')\n",
    "# spam = get_data(spam_path, 'spam')\n",
    "\n",
    "# np.random.shuffle(ham)\n",
    "# np.random.shuffle(spam)\n",
    "\n",
    "# data = ham + spam\n",
    "# np.random.shuffle(data) \n",
    "\n",
    "# df = pd.DataFrame(data)\n",
    "# df.head()"
   ]
  },
  {
   "cell_type": "code",
   "execution_count": 4,
   "id": "6981b6bf",
   "metadata": {
    "execution": {
     "iopub.execute_input": "2024-02-12T23:59:11.582419Z",
     "iopub.status.busy": "2024-02-12T23:59:11.582085Z",
     "iopub.status.idle": "2024-02-12T23:59:11.588352Z",
     "shell.execute_reply": "2024-02-12T23:59:11.587024Z"
    },
    "papermill": {
     "duration": 0.014102,
     "end_time": "2024-02-12T23:59:11.591494",
     "exception": false,
     "start_time": "2024-02-12T23:59:11.577392",
     "status": "completed"
    },
    "tags": []
   },
   "outputs": [
    {
     "data": {
      "text/plain": [
       "(7799, 3)"
      ]
     },
     "execution_count": 4,
     "metadata": {},
     "output_type": "execute_result"
    }
   ],
   "source": [
    "df.shape"
   ]
  },
  {
   "cell_type": "code",
   "execution_count": 5,
   "id": "e7e9066a",
   "metadata": {
    "execution": {
     "iopub.execute_input": "2024-02-12T23:59:11.601353Z",
     "iopub.status.busy": "2024-02-12T23:59:11.601046Z",
     "iopub.status.idle": "2024-02-12T23:59:12.574602Z",
     "shell.execute_reply": "2024-02-12T23:59:12.572706Z"
    },
    "papermill": {
     "duration": 0.980492,
     "end_time": "2024-02-12T23:59:12.576555",
     "exception": false,
     "start_time": "2024-02-12T23:59:11.596063",
     "status": "completed"
    },
    "tags": []
   },
   "outputs": [
    {
     "data": {
      "text/html": [
       "<div>\n",
       "<style scoped>\n",
       "    .dataframe tbody tr th:only-of-type {\n",
       "        vertical-align: middle;\n",
       "    }\n",
       "\n",
       "    .dataframe tbody tr th {\n",
       "        vertical-align: top;\n",
       "    }\n",
       "\n",
       "    .dataframe thead th {\n",
       "        text-align: right;\n",
       "    }\n",
       "</style>\n",
       "<table border=\"1\" class=\"dataframe\">\n",
       "  <thead>\n",
       "    <tr style=\"text-align: right;\">\n",
       "      <th></th>\n",
       "      <th>text</th>\n",
       "      <th>Text_ID</th>\n",
       "      <th>Label</th>\n",
       "      <th>length</th>\n",
       "    </tr>\n",
       "  </thead>\n",
       "  <tbody>\n",
       "    <tr>\n",
       "      <th>0</th>\n",
       "      <td>Subject: kwbt bio - tech signs letter of inten...</td>\n",
       "      <td>emailimage_1628.2004-07-16.GP.spam.txt</td>\n",
       "      <td>1</td>\n",
       "      <td>4006</td>\n",
       "    </tr>\n",
       "    <tr>\n",
       "      <th>1</th>\n",
       "      <td>Subject: supply for midlothian daren - - fyi -...</td>\n",
       "      <td>emailimage_2177.2000-09-07.farmer.ham.txt</td>\n",
       "      <td>0</td>\n",
       "      <td>487</td>\n",
       "    </tr>\n",
       "    <tr>\n",
       "      <th>2</th>\n",
       "      <td>Subject: start date : 2/2/02 ; hourahead hour ...</td>\n",
       "      <td>emailimage_ham__5779.2002-02-02.williams.ham</td>\n",
       "      <td>0</td>\n",
       "      <td>278</td>\n",
       "    </tr>\n",
       "    <tr>\n",
       "      <th>3</th>\n",
       "      <td>Subject: prozacs meds 30 million people now re...</td>\n",
       "      <td>emailimage_1142.2004-05-18.GP.spam.txt</td>\n",
       "      <td>1</td>\n",
       "      <td>225</td>\n",
       "    </tr>\n",
       "    <tr>\n",
       "      <th>4</th>\n",
       "      <td>Subject: re : noms / actual flow for 03 / 09 t...</td>\n",
       "      <td>emailimage_3761.2001-03-12.farmer.ham.txt</td>\n",
       "      <td>0</td>\n",
       "      <td>509</td>\n",
       "    </tr>\n",
       "  </tbody>\n",
       "</table>\n",
       "</div>"
      ],
      "text/plain": [
       "                                                text  \\\n",
       "0  Subject: kwbt bio - tech signs letter of inten...   \n",
       "1  Subject: supply for midlothian daren - - fyi -...   \n",
       "2  Subject: start date : 2/2/02 ; hourahead hour ...   \n",
       "3  Subject: prozacs meds 30 million people now re...   \n",
       "4  Subject: re : noms / actual flow for 03 / 09 t...   \n",
       "\n",
       "                                        Text_ID Label  length  \n",
       "0        emailimage_1628.2004-07-16.GP.spam.txt     1    4006  \n",
       "1     emailimage_2177.2000-09-07.farmer.ham.txt     0     487  \n",
       "2  emailimage_ham__5779.2002-02-02.williams.ham     0     278  \n",
       "3        emailimage_1142.2004-05-18.GP.spam.txt     1     225  \n",
       "4     emailimage_3761.2001-03-12.farmer.ham.txt     0     509  "
      ]
     },
     "execution_count": 5,
     "metadata": {},
     "output_type": "execute_result"
    },
    {
     "data": {
      "image/png": "[encoded data removed]",
      "text/plain": [
       "<Figure size 1000x700 with 1 Axes>"
      ]
     },
     "metadata": {},
     "output_type": "display_data"
    },
    {
     "data": {
      "image/png": "[encoded data removed]",
      "text/plain": [
       "<Figure size 1500x800 with 2 Axes>"
      ]
     },
     "metadata": {},
     "output_type": "display_data"
    }
   ],
   "source": [
    "def extract_email_info(email_text):\n",
    "    lines = email_text.split('\\n')\n",
    "\n",
    "    content = ''\n",
    "    sender = ''\n",
    "    recipient = ''\n",
    "    subject = ''\n",
    "    date = ''\n",
    "\n",
    "    for line in lines:\n",
    "        if line.startswith('Subject:'):\n",
    "            subject = line.replace('Subject:', '').strip()\n",
    "        elif line.startswith('From:'):\n",
    "            sender = line.replace('From:', '').strip()\n",
    "        elif line.startswith('To:'):\n",
    "            recipient = line.replace('To:', '').strip()\n",
    "        elif line.startswith('Date:'):\n",
    "            date = line.replace('Date:', '').strip()\n",
    "        elif line.startswith('Date:'):\n",
    "            date = line.replace('Received:', '').strip()\n",
    "        elif line.startswith('X-'):\n",
    "            continue\n",
    "        else:\n",
    "            content += line.strip()\n",
    "\n",
    "    return {'sender': sender, 'recipient': recipient, 'subject': subject, 'date': date, 'content': content}\n",
    "\n",
    "# Applying the function to the DataFrame\n",
    "#df['extracted_info'] = df['text'].apply(extract_email_info)\n",
    "\n",
    "# Creating new columns based on extracted information\n",
    "#df[['sender', 'recipient', 'subject', 'date', 'content']] = df['extracted_info'].apply(pd.Series)\n",
    "\n",
    "# Dropping unnecessary columns\n",
    "#df.drop(['text', 'extracted_info'], axis=1, inplace=True)\n",
    "\n",
    "# Displaying the modified DataFrame\n",
    "df.head()\n",
    "    \n",
    "\n",
    "df['length']=df['text'].apply(len)\n",
    "df.head()\n",
    "\n",
    "\n",
    "df['length'].plot(bins=50, kind='hist',figsize=(10,7))\n",
    "\n",
    "df.hist(column='length', by='Label', bins=50, figsize=(15,8))\n",
    "\n",
    "df.loc[:,'Label']=df.Label.map({'ham':0, 'spam':1})\n",
    "df.head()\n"
   ]
  },
  {
   "cell_type": "code",
   "execution_count": 6,
   "id": "49dc6968",
   "metadata": {
    "execution": {
     "iopub.execute_input": "2024-02-12T23:59:12.587880Z",
     "iopub.status.busy": "2024-02-12T23:59:12.586980Z",
     "iopub.status.idle": "2024-02-12T23:59:12.591818Z",
     "shell.execute_reply": "2024-02-12T23:59:12.590695Z"
    },
    "papermill": {
     "duration": 0.012711,
     "end_time": "2024-02-12T23:59:12.594005",
     "exception": false,
     "start_time": "2024-02-12T23:59:12.581294",
     "status": "completed"
    },
    "tags": []
   },
   "outputs": [],
   "source": [
    "#text"
   ]
  },
  {
   "cell_type": "code",
   "execution_count": 7,
   "id": "fdef287d",
   "metadata": {
    "execution": {
     "iopub.execute_input": "2024-02-12T23:59:12.607058Z",
     "iopub.status.busy": "2024-02-12T23:59:12.605253Z",
     "iopub.status.idle": "2024-02-12T23:59:13.884760Z",
     "shell.execute_reply": "2024-02-12T23:59:13.883891Z"
    },
    "papermill": {
     "duration": 1.288046,
     "end_time": "2024-02-12T23:59:13.886879",
     "exception": false,
     "start_time": "2024-02-12T23:59:12.598833",
     "status": "completed"
    },
    "tags": []
   },
   "outputs": [
    {
     "name": "stdout",
     "output_type": "stream",
     "text": [
      "Train DataFrame shape: (6239, 4)\n",
      "Test DataFrame shape: (1560, 4)\n"
     ]
    }
   ],
   "source": [
    "count=CountVectorizer()\n",
    "\n",
    "\n",
    "train_IDs = pd.read_csv('/kaggle/input/stacking-binary/train_IDs.csv')\n",
    "test_IDs = pd.read_csv('/kaggle/input/stacking-binary/test_IDs.csv')\n",
    "train = df[df[\"Text_ID\"].isin(train_IDs[\"Image_ID\"])]\n",
    "test = df[df[\"Text_ID\"].isin(test_IDs[\"Image_ID\"])]\n",
    "\n",
    "print(\"Train DataFrame shape:\", train.shape)\n",
    "print(\"Test DataFrame shape:\", test.shape)\n",
    "\n",
    "x_train=count.fit_transform(train['text'])\n",
    "x_test = count.transform(test['text'])\n",
    "\n",
    "y_train, y_test = train[\"Label\"], test[\"Label\"]\n",
    "models = {\n",
    "#'Logistic Regression': LogisticRegression(),\n",
    "#'Decision Tree': DecisionTreeClassifier(),\n",
    "'Naive Bayes': GaussianNB(),\n",
    "'Decision Tree' : DecisionTreeClassifier(),\n",
    " \n",
    "#'Support Vector Machine' : SVC()\n",
    "        }\n"
   ]
  },
  {
   "cell_type": "code",
   "execution_count": 8,
   "id": "2da53e73",
   "metadata": {
    "execution": {
     "iopub.execute_input": "2024-02-12T23:59:13.897609Z",
     "iopub.status.busy": "2024-02-12T23:59:13.897289Z",
     "iopub.status.idle": "2024-02-12T23:59:13.905422Z",
     "shell.execute_reply": "2024-02-12T23:59:13.904283Z"
    },
    "papermill": {
     "duration": 0.016471,
     "end_time": "2024-02-12T23:59:13.908043",
     "exception": false,
     "start_time": "2024-02-12T23:59:13.891572",
     "status": "completed"
    },
    "tags": []
   },
   "outputs": [
    {
     "data": {
      "text/plain": [
       "dtype('O')"
      ]
     },
     "execution_count": 8,
     "metadata": {},
     "output_type": "execute_result"
    }
   ],
   "source": [
    "y_train.dtype"
   ]
  },
  {
   "cell_type": "code",
   "execution_count": 9,
   "id": "c95d46f5",
   "metadata": {
    "execution": {
     "iopub.execute_input": "2024-02-12T23:59:13.919721Z",
     "iopub.status.busy": "2024-02-12T23:59:13.919393Z",
     "iopub.status.idle": "2024-02-13T00:01:01.927088Z",
     "shell.execute_reply": "2024-02-13T00:01:01.926195Z"
    },
    "papermill": {
     "duration": 108.021125,
     "end_time": "2024-02-13T00:01:01.934489",
     "exception": false,
     "start_time": "2024-02-12T23:59:13.913364",
     "status": "completed"
    },
    "tags": []
   },
   "outputs": [
    {
     "name": "stderr",
     "output_type": "stream",
     "text": [
      " 33%|███▎      | 1/3 [00:15<00:30, 15.07s/it]"
     ]
    },
    {
     "name": "stdout",
     "output_type": "stream",
     "text": [
      "Model: Naive Bayes\n",
      "Classification Report:\n",
      "              precision    recall  f1-score   support\n",
      "\n",
      "           0       0.94      0.97      0.96       816\n",
      "           1       0.97      0.94      0.95       744\n",
      "\n",
      "    accuracy                           0.96      1560\n",
      "   macro avg       0.96      0.95      0.95      1560\n",
      "weighted avg       0.96      0.96      0.96      1560\n",
      "\n",
      "Confusion Matrix:\n",
      "[[794  22]\n",
      " [ 48 696]]\n",
      "\n",
      "\n",
      "Train Log Loss: 0.42750927244665343\n",
      "Test Log Loss: 1.617343421306539\n"
     ]
    },
    {
     "name": "stderr",
     "output_type": "stream",
     "text": [
      " 67%|██████▋   | 2/3 [01:11<00:39, 39.16s/it]"
     ]
    },
    {
     "name": "stdout",
     "output_type": "stream",
     "text": [
      "Model: Decision Tree\n",
      "Classification Report:\n",
      "              precision    recall  f1-score   support\n",
      "\n",
      "           0       0.98      0.96      0.97       816\n",
      "           1       0.95      0.98      0.96       744\n",
      "\n",
      "    accuracy                           0.97      1560\n",
      "   macro avg       0.97      0.97      0.97      1560\n",
      "weighted avg       0.97      0.97      0.97      1560\n",
      "\n",
      "Confusion Matrix:\n",
      "[[780  36]\n",
      " [ 17 727]]\n",
      "\n",
      "\n",
      "Train Log Loss: 0.0005995618751890899\n",
      "Test Log Loss: 1.224808244070535\n"
     ]
    },
    {
     "name": "stderr",
     "output_type": "stream",
     "text": [
      "100%|██████████| 3/3 [01:47<00:00, 36.00s/it]"
     ]
    },
    {
     "name": "stdout",
     "output_type": "stream",
     "text": [
      "Model: Random Forest\n",
      "Classification Report:\n",
      "              precision    recall  f1-score   support\n",
      "\n",
      "           0       1.00      0.96      0.98       816\n",
      "           1       0.96      1.00      0.98       744\n",
      "\n",
      "    accuracy                           0.98      1560\n",
      "   macro avg       0.98      0.98      0.98      1560\n",
      "weighted avg       0.98      0.98      0.98      1560\n",
      "\n",
      "Confusion Matrix:\n",
      "[[785  31]\n",
      " [  0 744]]\n",
      "\n",
      "\n",
      "Train Log Loss: 0.03768256077917875\n",
      "Test Log Loss: 0.11791154564719543\n"
     ]
    },
    {
     "name": "stderr",
     "output_type": "stream",
     "text": [
      "\n"
     ]
    }
   ],
   "source": [
    "for name, model in tqdm(models.items()):\n",
    "    model.fit(x_train.toarray(), y_train.astype('int'))\n",
    "    test_pred = model.predict(x_test.toarray())\n",
    "    train_pred = model.predict(x_train.toarray())\n",
    "    train_pred_proba = model.predict_proba(x_train.toarray())\n",
    "    test_pred_proba = model.predict_proba(x_test.toarray())\n",
    "    train_log_loss = log_loss(y_train.astype('int'), train_pred_proba)\n",
    "    test_log_loss = log_loss(y_test.astype('int'), test_pred_proba)\n",
    "    print(f\"Model: {name}\")\n",
    "    print(\"Classification Report:\")\n",
    "    print(classification_report(y_test.astype('int'), test_pred.astype('int')))\n",
    "    \n",
    "    print(\"Confusion Matrix:\")\n",
    "    print(confusion_matrix(y_test.astype('int'), test_pred.astype('int')))\n",
    "    print(\"\\n\")\n",
    "    \n",
    "    print(f\"Train Log Loss: {train_log_loss}\")\n",
    "    print(f\"Test Log Loss: {test_log_loss}\")\n",
    "    \n",
    "    # Save predictions to CSV files\n",
    "    train_pred_df = train[['Text_ID', 'Label']].copy()\n",
    "    train_pred_proba_df = train[['Text_ID', 'Label']].copy()\n",
    "    train_pred_df['Label'] = train_pred\n",
    "    train_pred_proba_df['Label'] = train_pred_proba\n",
    "    train_pred_df.to_csv(f\"{name}_Train_Prediction.csv\", index=False)\n",
    "    train_pred_proba_df.to_csv(f\"{name}_Train_Prediction_Prob.csv\", index=False)\n",
    "    \n",
    "    test_pred_df = test[['Text_ID', 'Label']].copy()\n",
    "    test_pred_proba_df = test[['Text_ID', 'Label']].copy()\n",
    "    test_pred_df['Label'] = test_pred\n",
    "    test_pred_proba_df['Label'] = test_pred_proba\n",
    "    test_pred_df.to_csv(f\"{name}_Test_Prediction.csv\", index=False)\n",
    "    test_pred_proba_df.to_csv(f\"{name}_Test_Prediction_Prob.csv\", index=False)"
   ]
  },
  {
   "cell_type": "code",
   "execution_count": 10,
   "id": "664b582f",
   "metadata": {
    "execution": {
     "iopub.execute_input": "2024-02-13T00:01:01.947252Z",
     "iopub.status.busy": "2024-02-13T00:01:01.946871Z",
     "iopub.status.idle": "2024-02-13T00:01:01.951536Z",
     "shell.execute_reply": "2024-02-13T00:01:01.950152Z"
    },
    "papermill": {
     "duration": 0.014221,
     "end_time": "2024-02-13T00:01:01.954138",
     "exception": false,
     "start_time": "2024-02-13T00:01:01.939917",
     "status": "completed"
    },
    "tags": []
   },
   "outputs": [],
   "source": [
    "# NB_Train_Predicition = train[['Text_ID','Label']].copy()\n",
    "# NB_Train_Predicition_Prob = train[['Text_ID','Label']].copy()\n",
    "# NB_Train_Predicition['Label'] = train_pred\n",
    "# NB_Train_Predicition_Prob['Label'] = train_pred_proba\n",
    "# NB_Train_Predicition.to_csv(\"NB_Train_Predicition.csv\")\n",
    "# NB_Train_Predicition_Prob.to_csv(\"NB_Train_Predicition_Prob.csv\")\n"
   ]
  },
  {
   "cell_type": "code",
   "execution_count": 11,
   "id": "682b922b",
   "metadata": {
    "execution": {
     "iopub.execute_input": "2024-02-13T00:01:01.966359Z",
     "iopub.status.busy": "2024-02-13T00:01:01.966045Z",
     "iopub.status.idle": "2024-02-13T00:01:01.970146Z",
     "shell.execute_reply": "2024-02-13T00:01:01.969193Z"
    },
    "papermill": {
     "duration": 0.012689,
     "end_time": "2024-02-13T00:01:01.972300",
     "exception": false,
     "start_time": "2024-02-13T00:01:01.959611",
     "status": "completed"
    },
    "tags": []
   },
   "outputs": [],
   "source": [
    "# NB_Test_Predicition = test[['Text_ID','Label']].copy()\n",
    "# NB_Test_Predicition_Prob = Test[['Text_ID','Label']].copy()\n",
    "# NB_Test_Predicition['Label'] = test_pred\n",
    "# NB_Test_Predicition_Prob['Label'] = test_pred_proba\n",
    "# NB_Test_Predicition.to_csv(\"NB_Test_Predicition.csv\")\n",
    "# NB_Test_Predicition_Prob.to_csv(\"NB_Test_Predicition_Prob.csv\")\n"
   ]
  },
  {
   "cell_type": "code",
   "execution_count": null,
   "id": "0f7210a1",
   "metadata": {
    "papermill": {
     "duration": 0.005632,
     "end_time": "2024-02-13T00:01:01.984351",
     "exception": false,
     "start_time": "2024-02-13T00:01:01.978719",
     "status": "completed"
    },
    "tags": []
   },
   "outputs": [],
   "source": []
  },
  {
   "cell_type": "code",
   "execution_count": 12,
   "id": "69d5468f",
   "metadata": {
    "execution": {
     "iopub.execute_input": "2024-02-13T00:01:01.997251Z",
     "iopub.status.busy": "2024-02-13T00:01:01.996866Z",
     "iopub.status.idle": "2024-02-13T00:01:02.001723Z",
     "shell.execute_reply": "2024-02-13T00:01:02.000572Z"
    },
    "papermill": {
     "duration": 0.014665,
     "end_time": "2024-02-13T00:01:02.004566",
     "exception": false,
     "start_time": "2024-02-13T00:01:01.989901",
     "status": "completed"
    },
    "tags": []
   },
   "outputs": [],
   "source": [
    "#pd.DataFrame(train[['text_ID','Label']]).to_csv(\"Train_Truth_Ground.csv\")\n",
    "#pd.DataFrame(test[['text_ID','Label']]).to_csv(\"Test_Truth_Ground.csv\")"
   ]
  }
 ],
 "metadata": {
  "kaggle": {
   "accelerator": "none",
   "dataSources": [
    {
     "datasetId": 4026771,
     "sourceId": 7004417,
     "sourceType": "datasetVersion"
    },
    {
     "datasetId": 4307596,
     "sourceId": 7407529,
     "sourceType": "datasetVersion"
    },
    {
     "datasetId": 4332323,
     "sourceId": 7443112,
     "sourceType": "datasetVersion"
    },
    {
     "datasetId": 4336895,
     "sourceId": 7450615,
     "sourceType": "datasetVersion"
    },
    {
     "datasetId": 4337095,
     "sourceId": 7451181,
     "sourceType": "datasetVersion"
    },
    {
     "datasetId": 4368289,
     "sourceId": 7501605,
     "sourceType": "datasetVersion"
    },
    {
     "datasetId": 4368325,
     "sourceId": 7533358,
     "sourceType": "datasetVersion"
    },
    {
     "datasetId": 4387897,
     "sourceId": 7533736,
     "sourceType": "datasetVersion"
    },
    {
     "datasetId": 4414019,
     "sourceId": 7611444,
     "sourceType": "datasetVersion"
    }
   ],
   "dockerImageVersionId": 30635,
   "isGpuEnabled": false,
   "isInternetEnabled": true,
   "language": "python",
   "sourceType": "notebook"
  },
  "kernelspec": {
   "display_name": "Python 3 (ipykernel)",
   "language": "python",
   "name": "python3"
  },
  "language_info": {
   "codemirror_mode": {
    "name": "ipython",
    "version": 3
   },
   "file_extension": ".py",
   "mimetype": "text/x-python",
   "name": "python",
   "nbconvert_exporter": "python",
   "pygments_lexer": "ipython3",
   "version": "3.12.4"
  },
  "papermill": {
   "default_parameters": {},
   "duration": 168.761439,
   "end_time": "2024-02-13T00:01:02.632325",
   "environment_variables": {},
   "exception": null,
   "input_path": "__notebook__.ipynb",
   "output_path": "__notebook__.ipynb",
   "parameters": {},
   "start_time": "2024-02-12T23:58:13.870886",
   "version": "2.4.0"
  }
 },
 "nbformat": 4,
 "nbformat_minor": 5
}
